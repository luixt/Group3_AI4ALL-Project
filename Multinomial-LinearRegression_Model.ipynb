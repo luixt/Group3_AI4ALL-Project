{
 "cells": [
  {
   "cell_type": "code",
   "execution_count": null,
   "metadata": {},
   "outputs": [],
   "source": [
    "!python -m pip install pandas\n",
    "!python -m pip install matplotlib\n",
    "!python -m pip install seaborn \n",
    "!python -m pip install catboost\n",
    "!python -m pip install scikit-learn"
   ]
  },
  {
   "cell_type": "code",
   "execution_count": 11,
   "metadata": {},
   "outputs": [],
   "source": [
    "import pandas as pd"
   ]
  },
  {
   "cell_type": "code",
   "execution_count": 12,
   "metadata": {},
   "outputs": [],
   "source": [
    "df = pd.read_csv('Data/Miami_Accidents(Clean).csv')"
   ]
  },
  {
   "cell_type": "code",
   "execution_count": 13,
   "metadata": {},
   "outputs": [
    {
     "data": {
      "text/plain": [
       "Index(['ID', 'Severity', 'Start_Time', 'End_Time', 'Start_Lat', 'Start_Lng',\n",
       "       'End_Lat', 'End_Lng', 'Distance(mi)', 'Description', 'Street',\n",
       "       'Zipcode', 'Temperature(F)', 'Wind_Chill(F)', 'Humidity(%)',\n",
       "       'Pressure(in)', 'Visibility(mi)', 'Wind_Speed(mph)',\n",
       "       'Precipitation(in)', 'Weather_Condition', 'Bump', 'Crossing',\n",
       "       'Give_Way', 'Junction', 'No_Exit', 'Railway', 'Roundabout', 'Station',\n",
       "       'Stop', 'Traffic_Calming', 'Traffic_Signal', 'Turning_Loop',\n",
       "       'Sunrise_Sunset'],\n",
       "      dtype='object')"
      ]
     },
     "execution_count": 13,
     "metadata": {},
     "output_type": "execute_result"
    }
   ],
   "source": [
    "df.columns\n",
    "\n"
   ]
  },
  {
   "cell_type": "code",
   "execution_count": 14,
   "metadata": {},
   "outputs": [],
   "source": [
    "columns = ['Severity', 'Start_Time', 'End_Time', 'Start_Lat', 'Start_Lng',\n",
    "           'End_Lat', 'End_Lng', 'Distance(mi)', 'Description', 'Street',\n",
    "           'Zipcode', 'Temperature(F)', 'Wind_Chill(F)', 'Humidity(%)',\n",
    "           'Pressure(in)', 'Visibility(mi)', 'Wind_Speed(mph)',\n",
    "           'Precipitation(in)', 'Weather_Condition', 'Bump', 'Crossing',\n",
    "           'Give_Way', 'Junction', 'No_Exit', 'Railway', 'Roundabout', 'Station',\n",
    "           'Stop', 'Traffic_Calming', 'Traffic_Signal', 'Turning_Loop','Sunrise_Sunset']\n",
    "\n",
    "# Assuming `df` is your DataFrame\n",
    "df = df[columns]"
   ]
  },
  {
   "cell_type": "markdown",
   "metadata": {},
   "source": [
    "Data preparation to use it in models"
   ]
  },
  {
   "cell_type": "code",
   "execution_count": 15,
   "metadata": {},
   "outputs": [],
   "source": [
    "import pandas as pd\n",
    "from sklearn.model_selection import train_test_split\n",
    "from sklearn.preprocessing import OneHotEncoder, StandardScaler\n",
    "\n",
    "X = df.drop(['Severity'], axis=1)  \n",
    "y = df['Severity']\n",
    "\n",
    "# We update the selection of categories and numbers based on X\n",
    "categorical_cols = X.select_dtypes(include=['object', 'bool']).columns.tolist()\n",
    "numerical_cols = X.select_dtypes(include=['float64', 'int64']).columns.tolist()\n",
    "\n",
    "\n",
    "X_train, X_test, y_train, y_test = train_test_split(X, y, test_size=0.2, random_state=42)\n",
    "\n",
    "# One hot encoded \n",
    "onehot_encoder = OneHotEncoder(handle_unknown='ignore')\n",
    "X_train_encoded = onehot_encoder.fit_transform(X_train[categorical_cols])\n",
    "X_test_encoded = onehot_encoder.transform(X_test[categorical_cols])\n",
    "\n",
    "# scaling numerical data\n",
    "scaler = StandardScaler()\n",
    "X_train_scaled = scaler.fit_transform(X_train[numerical_cols])\n",
    "X_test_scaled = scaler.transform(X_test[numerical_cols])\n"
   ]
  },
  {
   "cell_type": "code",
   "execution_count": 16,
   "metadata": {},
   "outputs": [
    {
     "name": "stdout",
     "output_type": "stream",
     "text": [
      "Train Accuracy: 0.9932613179228523\n",
      "Test Accuracy: 0.9711263579188107\n"
     ]
    }
   ],
   "source": [
    "import numpy as np\n",
    "from sklearn.linear_model import LogisticRegression\n",
    "from scipy.sparse import hstack\n",
    "\n",
    "\n",
    "X_train_final = hstack((X_train_encoded, X_train_scaled))\n",
    "X_test_final = hstack((X_test_encoded, X_test_scaled))\n",
    "\n",
    "multinomial_model = LogisticRegression(multi_class='multinomial', solver='lbfgs',  max_iter=1000)\n",
    "\n",
    "\n",
    "multinomial_model.fit(X_train_final, y_train)\n",
    "\n",
    "\n",
    "train_score = multinomial_model.score(X_train_final, y_train)\n",
    "test_score = multinomial_model.score(X_test_final, y_test)\n",
    "\n",
    "print(f'Train Accuracy: {train_score}')\n",
    "print(f'Test Accuracy: {test_score}')\n",
    "\n",
    "\n",
    "predictions = multinomial_model.predict(X_test_final)\n"
   ]
  },
  {
   "cell_type": "code",
   "execution_count": 17,
   "metadata": {},
   "outputs": [
    {
     "name": "stdout",
     "output_type": "stream",
     "text": [
      "The severity prediction is: 3\n"
     ]
    }
   ],
   "source": [
    "import pandas as pd\n",
    "from sklearn.linear_model import LogisticRegression\n",
    "from sklearn.preprocessing import OneHotEncoder, StandardScaler\n",
    "from scipy.sparse import hstack\n",
    "\n",
    "new_data = {\n",
    "    'Start_Time': '1/1/2021 8:00',  \n",
    "    'End_Time': '1/1/2021 9:00',    \n",
    "    'Start_Lat': 25.3453,\n",
    "    'Start_Lng': -80.2354,\n",
    "    'End_Lat': 25.7234,\n",
    "    'End_Lng': -80.2343,\n",
    "    'Distance(mi)': 0.5,\n",
    "    'Description': 'At SR-953/42nd Ave/Le Jeune Rd - Accident.',\n",
    "    'Street': 'I95 S',\n",
    "    'Zipcode': '33179',\n",
    "    'Temperature(F)': 89,  \n",
    "    'Wind_Chill(F)': 79.486101,\n",
    "    'Humidity(%)': 78,  \n",
    "    'Pressure(in)': 29.94,\n",
    "    'Visibility(mi)': 10,  \n",
    "    'Wind_Speed(mph)': 10, \n",
    "    'Precipitation(in)': 0.009458,\n",
    "    'Weather_Condition': 'Overcast',\n",
    "    'Bump': False,\n",
    "    'Crossing': False,\n",
    "    'Give_Way': False,\n",
    "    'Junction': False,\n",
    "    'No_Exit': True,\n",
    "    'Railway': False,\n",
    "    'Roundabout': False,\n",
    "    'Station': False,\n",
    "    'Stop': False,\n",
    "    'Traffic_Calming': False,\n",
    "    'Traffic_Signal': False,\n",
    "    'Turning_Loop': False,\n",
    "    'Sunrise_Sunset': 'Day'\n",
    "}\n",
    "\n",
    "\n",
    "new_data_df = pd.DataFrame([new_data])\n",
    "\n",
    "\n",
    "\n",
    "for col in new_data_df.select_dtypes(include=['bool']).columns:\n",
    "    new_data_df[col] = new_data_df[col].astype(str)\n",
    "\n",
    "\n",
    "new_data_encoded = onehot_encoder.transform(new_data_df[categorical_cols])\n",
    "\n",
    "\n",
    "new_data_scaled = scaler.transform(new_data_df[numerical_cols].astype(float))\n",
    "\n",
    "# Combinar características codificadas y escaladas\n",
    "new_data_final = hstack([new_data_encoded, new_data_scaled])\n",
    "\n",
    "predicted_severity = multinomial_model.predict(new_data_final)\n",
    "\n",
    "print('The severity prediction is:', predicted_severity[0])\n"
   ]
  },
  {
   "cell_type": "code",
   "execution_count": 18,
   "metadata": {},
   "outputs": [
    {
     "name": "stdout",
     "output_type": "stream",
     "text": [
      "Severity                                                      2\n",
      "Start_Time                                  2016-11-30 16:35:52\n",
      "End_Time                                    2016-11-30 16:35:52\n",
      "Start_Lat                                              25.78601\n",
      "Start_Lng                                             -80.25809\n",
      "End_Lat                                                25.78336\n",
      "End_Lng                                               -80.26911\n",
      "Distance(mi)                                               0.71\n",
      "Description          At SR-953/42nd Ave/Le Jeune Rd - Accident.\n",
      "Street                                           Dolphin Expy W\n",
      "Zipcode                                                   33126\n",
      "Temperature(F)                                             78.1\n",
      "Wind_Chill(F)                                         78.486101\n",
      "Humidity(%)                                                76.0\n",
      "Pressure(in)                                              29.96\n",
      "Visibility(mi)                                             10.0\n",
      "Wind_Speed(mph)                                            11.5\n",
      "Precipitation(in)                                      0.009293\n",
      "Weather_Condition                                 Mostly Cloudy\n",
      "Bump                                                      False\n",
      "Crossing                                                  False\n",
      "Give_Way                                                  False\n",
      "Junction                                                  False\n",
      "No_Exit                                                   False\n",
      "Railway                                                   False\n",
      "Roundabout                                                False\n",
      "Station                                                   False\n",
      "Stop                                                      False\n",
      "Traffic_Calming                                           False\n",
      "Traffic_Signal                                            False\n",
      "Turning_Loop                                              False\n",
      "Sunrise_Sunset                                              Day\n",
      "Name: 0, dtype: object\n"
     ]
    }
   ],
   "source": [
    "print(df.iloc[0])"
   ]
  },
  {
   "cell_type": "code",
   "execution_count": 19,
   "metadata": {},
   "outputs": [
    {
     "name": "stdout",
     "output_type": "stream",
     "text": [
      "The severity prediction is: 3\n"
     ]
    }
   ],
   "source": [
    "import pandas as pd\n",
    "from sklearn.linear_model import LogisticRegression\n",
    "from sklearn.preprocessing import OneHotEncoder, StandardScaler\n",
    "from scipy.sparse import hstack\n",
    "\n",
    "new_data = {\n",
    "    \n",
    "    'Start_Time': '11/30/2016 16:40:31',  \n",
    "    'End_Time': '11/30/2016 17:10:19',    \n",
    "    'Start_Lat': 25.78601,\n",
    "    'Start_Lng': -80.25809,\n",
    "    'End_Lat': 25.78336,\n",
    "    'End_Lng': -80.26911,\n",
    "    'Distance(mi)': 0.71,\n",
    "    'Description': 'At SR-953/42nd Ave/Le Jeune Rd - Accident.',\n",
    "    'Street': 'Dolphin Expy W',\n",
    "    'Zipcode': '33126',\n",
    "    'Temperature(F)': 78.1,  \n",
    "    'Wind_Chill(F)': 78.486101,\n",
    "    'Humidity(%)': 76,  \n",
    "    'Pressure(in)': 29.96,\n",
    "    'Visibility(mi)': 10,  \n",
    "    'Wind_Speed(mph)': 11.5, \n",
    "    'Precipitation(in)': 0.009293,\n",
    "    'Weather_Condition': 'Mostly Cloudy',\n",
    "    'Bump': False,\n",
    "    'Crossing': False,\n",
    "    'Give_Way': False,\n",
    "    'Junction': False,\n",
    "    'No_Exit': False,\n",
    "    'Railway': False,\n",
    "    'Roundabout': False,\n",
    "    'Station': False,\n",
    "    'Stop': False,\n",
    "    'Traffic_Calming': False,\n",
    "    'Traffic_Signal': False,\n",
    "    'Turning_Loop': False,\n",
    "    'Sunrise_Sunset': 'Day'\n",
    "}\n",
    "\n",
    "\n",
    "new_data_df = pd.DataFrame([new_data])\n",
    "\n",
    "# Convertir booleanos a strings para la codificación one-hot\n",
    "for col in new_data_df.select_dtypes(include=['bool']).columns:\n",
    "    new_data_df[col] = new_data_df[col].astype(str)\n",
    "\n",
    "# Codificar las características categóricas\n",
    "new_data_encoded = onehot_encoder.transform(new_data_df[categorical_cols])\n",
    "\n",
    "# Escalar las características numéricas\n",
    "# Asegúrate de que las columnas numéricas en 'numerical_cols_for_prediction' no incluyan a 'Severity'\n",
    "new_data_scaled = scaler.transform(new_data_df[numerical_cols].astype(float))\n",
    "\n",
    "# Combinar características codificadas y escaladas\n",
    "new_data_final = hstack([new_data_encoded, new_data_scaled])\n",
    "\n",
    "predicted_severity = multinomial_model.predict(new_data_final)\n",
    "\n",
    "print('The severity prediction is:', predicted_severity[0])\n"
   ]
  }
 ],
 "metadata": {
  "kernelspec": {
   "display_name": "Python 3",
   "language": "python",
   "name": "python3"
  },
  "language_info": {
   "codemirror_mode": {
    "name": "ipython",
    "version": 3
   },
   "file_extension": ".py",
   "mimetype": "text/x-python",
   "name": "python",
   "nbconvert_exporter": "python",
   "pygments_lexer": "ipython3",
   "version": "3.11.0"
  }
 },
 "nbformat": 4,
 "nbformat_minor": 2
}
