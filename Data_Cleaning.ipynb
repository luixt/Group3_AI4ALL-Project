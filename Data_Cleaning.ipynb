{
 "cells": [
  {
   "cell_type": "code",
   "execution_count": 42,
   "metadata": {},
   "outputs": [],
   "source": [
    "import pandas as pd\n",
    "import numpy as np  \n",
    "from matplotlib import pyplot as plt"
   ]
  },
  {
   "cell_type": "code",
   "execution_count": 43,
   "metadata": {},
   "outputs": [
    {
     "data": {
      "text/plain": [
       "Index(['Unnamed: 0', 'ID', 'Source', 'Severity', 'Start_Time', 'End_Time',\n",
       "       'Start_Lat', 'Start_Lng', 'End_Lat', 'End_Lng', 'Distance(mi)',\n",
       "       'Description', 'Street', 'City', 'County', 'State', 'Zipcode',\n",
       "       'Country', 'Timezone', 'Airport_Code', 'Weather_Timestamp',\n",
       "       'Temperature(F)', 'Wind_Chill(F)', 'Humidity(%)', 'Pressure(in)',\n",
       "       'Visibility(mi)', 'Wind_Direction', 'Wind_Speed(mph)',\n",
       "       'Precipitation(in)', 'Weather_Condition', 'Amenity', 'Bump', 'Crossing',\n",
       "       'Give_Way', 'Junction', 'No_Exit', 'Railway', 'Roundabout', 'Station',\n",
       "       'Stop', 'Traffic_Calming', 'Traffic_Signal', 'Turning_Loop',\n",
       "       'Sunrise_Sunset', 'Civil_Twilight', 'Nautical_Twilight',\n",
       "       'Astronomical_Twilight'],\n",
       "      dtype='object')"
      ]
     },
     "execution_count": 43,
     "metadata": {},
     "output_type": "execute_result"
    }
   ],
   "source": [
    "df = pd.read_csv('Data/Miami_Accidents.csv')\n",
    "df.head()\n",
    "df.columns"
   ]
  },
  {
   "cell_type": "code",
   "execution_count": 44,
   "metadata": {},
   "outputs": [
    {
     "data": {
      "text/plain": [
       "Unnamed: 0                 int64\n",
       "ID                        object\n",
       "Source                    object\n",
       "Severity                   int64\n",
       "Start_Time                object\n",
       "End_Time                  object\n",
       "Start_Lat                float64\n",
       "Start_Lng                float64\n",
       "End_Lat                  float64\n",
       "End_Lng                  float64\n",
       "Distance(mi)             float64\n",
       "Description               object\n",
       "Street                    object\n",
       "City                      object\n",
       "County                    object\n",
       "State                     object\n",
       "Zipcode                   object\n",
       "Country                   object\n",
       "Timezone                  object\n",
       "Airport_Code              object\n",
       "Weather_Timestamp         object\n",
       "Temperature(F)           float64\n",
       "Wind_Chill(F)            float64\n",
       "Humidity(%)              float64\n",
       "Pressure(in)             float64\n",
       "Visibility(mi)           float64\n",
       "Wind_Direction            object\n",
       "Wind_Speed(mph)          float64\n",
       "Precipitation(in)        float64\n",
       "Weather_Condition         object\n",
       "Amenity                     bool\n",
       "Bump                        bool\n",
       "Crossing                    bool\n",
       "Give_Way                    bool\n",
       "Junction                    bool\n",
       "No_Exit                     bool\n",
       "Railway                     bool\n",
       "Roundabout                  bool\n",
       "Station                     bool\n",
       "Stop                        bool\n",
       "Traffic_Calming             bool\n",
       "Traffic_Signal              bool\n",
       "Turning_Loop                bool\n",
       "Sunrise_Sunset            object\n",
       "Civil_Twilight            object\n",
       "Nautical_Twilight         object\n",
       "Astronomical_Twilight     object\n",
       "dtype: object"
      ]
     },
     "execution_count": 44,
     "metadata": {},
     "output_type": "execute_result"
    }
   ],
   "source": [
    "df.dtypes\n"
   ]
  },
  {
   "cell_type": "code",
   "execution_count": 45,
   "metadata": {},
   "outputs": [
    {
     "data": {
      "text/plain": [
       "Index(['Unnamed: 0', 'ID', 'Source', 'Severity', 'Start_Time', 'End_Time',\n",
       "       'Start_Lat', 'Start_Lng', 'End_Lat', 'End_Lng', 'Distance(mi)',\n",
       "       'Description', 'Street', 'City', 'County', 'State', 'Zipcode',\n",
       "       'Country', 'Timezone', 'Airport_Code', 'Weather_Timestamp',\n",
       "       'Temperature(F)', 'Wind_Chill(F)', 'Humidity(%)', 'Pressure(in)',\n",
       "       'Visibility(mi)', 'Wind_Direction', 'Wind_Speed(mph)',\n",
       "       'Precipitation(in)', 'Weather_Condition', 'Amenity', 'Bump', 'Crossing',\n",
       "       'Give_Way', 'Junction', 'No_Exit', 'Railway', 'Roundabout', 'Station',\n",
       "       'Stop', 'Traffic_Calming', 'Traffic_Signal', 'Turning_Loop',\n",
       "       'Sunrise_Sunset', 'Civil_Twilight', 'Nautical_Twilight',\n",
       "       'Astronomical_Twilight'],\n",
       "      dtype='object')"
      ]
     },
     "execution_count": 45,
     "metadata": {},
     "output_type": "execute_result"
    }
   ],
   "source": [
    "df.columns"
   ]
  },
  {
   "cell_type": "code",
   "execution_count": 46,
   "metadata": {},
   "outputs": [
    {
     "name": "stdout",
     "output_type": "stream",
     "text": [
      "Requirement already satisfied: pickleshare in c:\\users\\luis delgado\\appdata\\local\\programs\\python\\python311\\lib\\site-packages (0.7.5)\n"
     ]
    },
    {
     "name": "stderr",
     "output_type": "stream",
     "text": [
      "\n",
      "[notice] A new release of pip available: 22.3 -> 24.0\n",
      "[notice] To update, run: python.exe -m pip install --upgrade pip\n"
     ]
    }
   ],
   "source": [
    "!python -m pip install pickleshare"
   ]
  },
  {
   "cell_type": "code",
   "execution_count": 47,
   "metadata": {},
   "outputs": [
    {
     "name": "stdout",
     "output_type": "stream",
     "text": [
      "Stored 'df' (DataFrame)\n"
     ]
    },
    {
     "name": "stderr",
     "output_type": "stream",
     "text": [
      "C:\\Users\\Luis Delgado\\AppData\\Roaming\\Python\\Python311\\site-packages\\IPython\\extensions\\storemagic.py:229: UserWarning: using autorestore/df requires you to install the `pickleshare` library.\n",
      "  db[ 'autorestore/' + arg ] = obj\n"
     ]
    }
   ],
   "source": [
    "%store df"
   ]
  },
  {
   "cell_type": "code",
   "execution_count": 48,
   "metadata": {},
   "outputs": [
    {
     "data": {
      "text/plain": [
       "Index(['Unnamed: 0', 'ID', 'Source', 'Severity', 'Start_Time', 'End_Time',\n",
       "       'Start_Lat', 'Start_Lng', 'End_Lat', 'End_Lng', 'Distance(mi)',\n",
       "       'Description', 'Street', 'City', 'County', 'State', 'Zipcode',\n",
       "       'Country', 'Timezone', 'Airport_Code', 'Weather_Timestamp',\n",
       "       'Temperature(F)', 'Wind_Chill(F)', 'Humidity(%)', 'Pressure(in)',\n",
       "       'Visibility(mi)', 'Wind_Direction', 'Wind_Speed(mph)',\n",
       "       'Precipitation(in)', 'Weather_Condition', 'Amenity', 'Bump', 'Crossing',\n",
       "       'Give_Way', 'Junction', 'No_Exit', 'Railway', 'Roundabout', 'Station',\n",
       "       'Stop', 'Traffic_Calming', 'Traffic_Signal', 'Turning_Loop',\n",
       "       'Sunrise_Sunset', 'Civil_Twilight', 'Nautical_Twilight',\n",
       "       'Astronomical_Twilight'],\n",
       "      dtype='object')"
      ]
     },
     "execution_count": 48,
     "metadata": {},
     "output_type": "execute_result"
    }
   ],
   "source": [
    "df.columns"
   ]
  },
  {
   "cell_type": "code",
   "execution_count": 49,
   "metadata": {},
   "outputs": [
    {
     "data": {
      "text/plain": [
       "Index(['ID', 'Source', 'Start_Time', 'End_Time', 'Description', 'Street',\n",
       "       'City', 'County', 'State', 'Zipcode', 'Country', 'Timezone',\n",
       "       'Airport_Code', 'Weather_Timestamp', 'Wind_Direction',\n",
       "       'Weather_Condition', 'Sunrise_Sunset', 'Civil_Twilight',\n",
       "       'Nautical_Twilight', 'Astronomical_Twilight'],\n",
       "      dtype='object')"
      ]
     },
     "execution_count": 49,
     "metadata": {},
     "output_type": "execute_result"
    }
   ],
   "source": [
    "df_with_non_numeric_features = df.select_dtypes(include=['object'])\n",
    "df_with_non_numeric_features.columns"
   ]
  },
  {
   "cell_type": "code",
   "execution_count": 50,
   "metadata": {},
   "outputs": [
    {
     "data": {
      "text/plain": [
       "County\n",
       "Miami-Dade    186760\n",
       "Gila             117\n",
       "Pinal             24\n",
       "Broward            8\n",
       "Ottawa             4\n",
       "Colfax             2\n",
       "Clermont           1\n",
       "Kanawha            1\n",
       "Name: count, dtype: int64"
      ]
     },
     "execution_count": 50,
     "metadata": {},
     "output_type": "execute_result"
    }
   ],
   "source": [
    "df['County'].value_counts()"
   ]
  },
  {
   "cell_type": "code",
   "execution_count": 51,
   "metadata": {},
   "outputs": [],
   "source": [
    "df = df[df['County'] == 'Miami-Dade']"
   ]
  },
  {
   "cell_type": "code",
   "execution_count": 52,
   "metadata": {},
   "outputs": [
    {
     "data": {
      "text/plain": [
       "County\n",
       "Miami-Dade    186760\n",
       "Name: count, dtype: int64"
      ]
     },
     "execution_count": 52,
     "metadata": {},
     "output_type": "execute_result"
    }
   ],
   "source": [
    "df['County'].value_counts()"
   ]
  },
  {
   "cell_type": "code",
   "execution_count": 53,
   "metadata": {},
   "outputs": [
    {
     "data": {
      "text/html": [
       "<div>\n",
       "<style scoped>\n",
       "    .dataframe tbody tr th:only-of-type {\n",
       "        vertical-align: middle;\n",
       "    }\n",
       "\n",
       "    .dataframe tbody tr th {\n",
       "        vertical-align: top;\n",
       "    }\n",
       "\n",
       "    .dataframe thead th {\n",
       "        text-align: right;\n",
       "    }\n",
       "</style>\n",
       "<table border=\"1\" class=\"dataframe\">\n",
       "  <thead>\n",
       "    <tr style=\"text-align: right;\">\n",
       "      <th></th>\n",
       "      <th>ID</th>\n",
       "      <th>Severity</th>\n",
       "      <th>Start_Time</th>\n",
       "      <th>End_Time</th>\n",
       "      <th>Start_Lat</th>\n",
       "      <th>Start_Lng</th>\n",
       "      <th>End_Lat</th>\n",
       "      <th>End_Lng</th>\n",
       "      <th>Distance(mi)</th>\n",
       "      <th>Description</th>\n",
       "      <th>...</th>\n",
       "      <th>Junction</th>\n",
       "      <th>No_Exit</th>\n",
       "      <th>Railway</th>\n",
       "      <th>Roundabout</th>\n",
       "      <th>Station</th>\n",
       "      <th>Stop</th>\n",
       "      <th>Traffic_Calming</th>\n",
       "      <th>Traffic_Signal</th>\n",
       "      <th>Turning_Loop</th>\n",
       "      <th>Sunrise_Sunset</th>\n",
       "    </tr>\n",
       "  </thead>\n",
       "  <tbody>\n",
       "    <tr>\n",
       "      <th>0</th>\n",
       "      <td>A-116064</td>\n",
       "      <td>2</td>\n",
       "      <td>2016-11-30 16:40:31</td>\n",
       "      <td>2016-11-30 17:10:19</td>\n",
       "      <td>25.627699</td>\n",
       "      <td>-80.374451</td>\n",
       "      <td>NaN</td>\n",
       "      <td>NaN</td>\n",
       "      <td>0.01</td>\n",
       "      <td>Accident on FL-992 152nd St at Lincoln Blvd.</td>\n",
       "      <td>...</td>\n",
       "      <td>False</td>\n",
       "      <td>False</td>\n",
       "      <td>False</td>\n",
       "      <td>False</td>\n",
       "      <td>False</td>\n",
       "      <td>True</td>\n",
       "      <td>False</td>\n",
       "      <td>True</td>\n",
       "      <td>False</td>\n",
       "      <td>Day</td>\n",
       "    </tr>\n",
       "    <tr>\n",
       "      <th>1</th>\n",
       "      <td>A-116067</td>\n",
       "      <td>2</td>\n",
       "      <td>2016-11-30 15:16:19</td>\n",
       "      <td>2016-11-30 17:01:03</td>\n",
       "      <td>25.963093</td>\n",
       "      <td>-80.185677</td>\n",
       "      <td>NaN</td>\n",
       "      <td>NaN</td>\n",
       "      <td>0.01</td>\n",
       "      <td>Left turn lane blocked due to accident on FL-8...</td>\n",
       "      <td>...</td>\n",
       "      <td>False</td>\n",
       "      <td>False</td>\n",
       "      <td>False</td>\n",
       "      <td>False</td>\n",
       "      <td>False</td>\n",
       "      <td>False</td>\n",
       "      <td>False</td>\n",
       "      <td>True</td>\n",
       "      <td>False</td>\n",
       "      <td>Day</td>\n",
       "    </tr>\n",
       "    <tr>\n",
       "      <th>2</th>\n",
       "      <td>A-116068</td>\n",
       "      <td>2</td>\n",
       "      <td>2016-11-30 16:55:31</td>\n",
       "      <td>2016-11-30 17:25:11</td>\n",
       "      <td>25.841373</td>\n",
       "      <td>-80.322037</td>\n",
       "      <td>NaN</td>\n",
       "      <td>NaN</td>\n",
       "      <td>0.01</td>\n",
       "      <td>Queueing traffic due to accident on FL-826 Pal...</td>\n",
       "      <td>...</td>\n",
       "      <td>False</td>\n",
       "      <td>False</td>\n",
       "      <td>False</td>\n",
       "      <td>False</td>\n",
       "      <td>False</td>\n",
       "      <td>False</td>\n",
       "      <td>False</td>\n",
       "      <td>False</td>\n",
       "      <td>False</td>\n",
       "      <td>Day</td>\n",
       "    </tr>\n",
       "    <tr>\n",
       "      <th>3</th>\n",
       "      <td>A-116069</td>\n",
       "      <td>3</td>\n",
       "      <td>2016-11-30 16:57:23</td>\n",
       "      <td>2016-11-30 17:27:10</td>\n",
       "      <td>25.812199</td>\n",
       "      <td>-80.205856</td>\n",
       "      <td>NaN</td>\n",
       "      <td>NaN</td>\n",
       "      <td>0.01</td>\n",
       "      <td>Accident on I-95 Southbound at Exits 4 4B FL-1...</td>\n",
       "      <td>...</td>\n",
       "      <td>False</td>\n",
       "      <td>False</td>\n",
       "      <td>False</td>\n",
       "      <td>False</td>\n",
       "      <td>False</td>\n",
       "      <td>False</td>\n",
       "      <td>False</td>\n",
       "      <td>False</td>\n",
       "      <td>False</td>\n",
       "      <td>Day</td>\n",
       "    </tr>\n",
       "    <tr>\n",
       "      <th>4</th>\n",
       "      <td>A-116071</td>\n",
       "      <td>2</td>\n",
       "      <td>2016-11-30 17:15:52</td>\n",
       "      <td>2016-11-30 17:45:36</td>\n",
       "      <td>25.781235</td>\n",
       "      <td>-80.337181</td>\n",
       "      <td>NaN</td>\n",
       "      <td>NaN</td>\n",
       "      <td>0.01</td>\n",
       "      <td>Queueing traffic due to accident on FL-836 Dol...</td>\n",
       "      <td>...</td>\n",
       "      <td>False</td>\n",
       "      <td>False</td>\n",
       "      <td>False</td>\n",
       "      <td>False</td>\n",
       "      <td>False</td>\n",
       "      <td>False</td>\n",
       "      <td>False</td>\n",
       "      <td>False</td>\n",
       "      <td>False</td>\n",
       "      <td>Day</td>\n",
       "    </tr>\n",
       "  </tbody>\n",
       "</table>\n",
       "<p>5 rows × 33 columns</p>\n",
       "</div>"
      ],
      "text/plain": [
       "         ID  Severity           Start_Time             End_Time  Start_Lat  \\\n",
       "0  A-116064         2  2016-11-30 16:40:31  2016-11-30 17:10:19  25.627699   \n",
       "1  A-116067         2  2016-11-30 15:16:19  2016-11-30 17:01:03  25.963093   \n",
       "2  A-116068         2  2016-11-30 16:55:31  2016-11-30 17:25:11  25.841373   \n",
       "3  A-116069         3  2016-11-30 16:57:23  2016-11-30 17:27:10  25.812199   \n",
       "4  A-116071         2  2016-11-30 17:15:52  2016-11-30 17:45:36  25.781235   \n",
       "\n",
       "   Start_Lng  End_Lat  End_Lng  Distance(mi)  \\\n",
       "0 -80.374451      NaN      NaN          0.01   \n",
       "1 -80.185677      NaN      NaN          0.01   \n",
       "2 -80.322037      NaN      NaN          0.01   \n",
       "3 -80.205856      NaN      NaN          0.01   \n",
       "4 -80.337181      NaN      NaN          0.01   \n",
       "\n",
       "                                         Description  ... Junction No_Exit  \\\n",
       "0       Accident on FL-992 152nd St at Lincoln Blvd.  ...    False   False   \n",
       "1  Left turn lane blocked due to accident on FL-8...  ...    False   False   \n",
       "2  Queueing traffic due to accident on FL-826 Pal...  ...    False   False   \n",
       "3  Accident on I-95 Southbound at Exits 4 4B FL-1...  ...    False   False   \n",
       "4  Queueing traffic due to accident on FL-836 Dol...  ...    False   False   \n",
       "\n",
       "   Railway  Roundabout  Station   Stop  Traffic_Calming  Traffic_Signal  \\\n",
       "0    False       False    False   True            False            True   \n",
       "1    False       False    False  False            False            True   \n",
       "2    False       False    False  False            False           False   \n",
       "3    False       False    False  False            False           False   \n",
       "4    False       False    False  False            False           False   \n",
       "\n",
       "   Turning_Loop Sunrise_Sunset  \n",
       "0         False            Day  \n",
       "1         False            Day  \n",
       "2         False            Day  \n",
       "3         False            Day  \n",
       "4         False            Day  \n",
       "\n",
       "[5 rows x 33 columns]"
      ]
     },
     "execution_count": 53,
     "metadata": {},
     "output_type": "execute_result"
    }
   ],
   "source": [
    "columns_to_drop = ['Civil_Twilight', 'Nautical_Twilight', 'Astronomical_Twilight', 'Weather_Timestamp', 'Airport_Code', 'Wind_Direction', 'Amenity', 'Source', 'Unnamed: 0', \"State\", \"City\",\n",
    "                   'County', 'Timezone', 'Country']\n",
    "df.drop(columns=columns_to_drop, inplace=True)\n",
    "df.head()"
   ]
  },
  {
   "cell_type": "code",
   "execution_count": 54,
   "metadata": {},
   "outputs": [],
   "source": [
    "df['Start_Time'] = pd.to_datetime(df['Start_Time'], format='%Y-%m-%d %H:%M:%S', errors='coerce')"
   ]
  },
  {
   "cell_type": "code",
   "execution_count": 55,
   "metadata": {},
   "outputs": [],
   "source": [
    "df['End_Time'] = pd.to_datetime(df['Start_Time'], format='%Y-%m-%d %H:%M:%S', errors='coerce')"
   ]
  },
  {
   "cell_type": "code",
   "execution_count": 56,
   "metadata": {},
   "outputs": [
    {
     "data": {
      "text/plain": [
       "Start_Time           30353\n",
       "End_Time             30353\n",
       "End_Lat              33465\n",
       "End_Lng              33465\n",
       "Street                 201\n",
       "Temperature(F)        2205\n",
       "Wind_Chill(F)        27215\n",
       "Humidity(%)           2389\n",
       "Pressure(in)           574\n",
       "Visibility(mi)        1782\n",
       "Wind_Speed(mph)       4134\n",
       "Precipitation(in)    21669\n",
       "Weather_Condition     1555\n",
       "dtype: int64"
      ]
     },
     "execution_count": 56,
     "metadata": {},
     "output_type": "execute_result"
    }
   ],
   "source": [
    "df.isna().sum()[df.isna().sum()>0]"
   ]
  },
  {
   "cell_type": "code",
   "execution_count": 57,
   "metadata": {},
   "outputs": [],
   "source": [
    "# Dropping huge amount of missing data for Time\n",
    "df = df.dropna(subset = ['Start_Time']).reset_index(drop = True)"
   ]
  },
  {
   "cell_type": "code",
   "execution_count": 58,
   "metadata": {},
   "outputs": [
    {
     "data": {
      "text/plain": [
       "End_Lat              33465\n",
       "End_Lng              33465\n",
       "Street                 151\n",
       "Temperature(F)        1888\n",
       "Wind_Chill(F)        26833\n",
       "Humidity(%)           2061\n",
       "Pressure(in)           479\n",
       "Visibility(mi)        1460\n",
       "Wind_Speed(mph)       3795\n",
       "Precipitation(in)    21584\n",
       "Weather_Condition     1226\n",
       "dtype: int64"
      ]
     },
     "execution_count": 58,
     "metadata": {},
     "output_type": "execute_result"
    }
   ],
   "source": [
    "df.isna().sum()[df.isna().sum()>0]"
   ]
  },
  {
   "cell_type": "code",
   "execution_count": 59,
   "metadata": {},
   "outputs": [],
   "source": [
    "# Dropping all the row data with End_Lat\n",
    "df = df.dropna(subset = ['End_Lat']).reset_index(drop = True)"
   ]
  },
  {
   "cell_type": "code",
   "execution_count": 60,
   "metadata": {},
   "outputs": [],
   "source": [
    "# Missing start and end times or start latitude and end longitude make the data less informative and actionable. \n",
    "# It hampers the ability to analyze and derive insights from the dataset effectively.\n",
    "# Missing start and end times or start latitude and end longitude significantly reduce the usefulness \n",
    "# and reliability of the dataset, especially in contexts like car accidents where temporal and spatial \n",
    "# information is crucial for analysis and decision-making."
   ]
  },
  {
   "cell_type": "code",
   "execution_count": 61,
   "metadata": {},
   "outputs": [
    {
     "data": {
      "text/plain": [
       "Street                137\n",
       "Temperature(F)       1550\n",
       "Wind_Chill(F)        9632\n",
       "Humidity(%)          1671\n",
       "Pressure(in)          377\n",
       "Visibility(mi)       1256\n",
       "Wind_Speed(mph)      1862\n",
       "Precipitation(in)    6968\n",
       "Weather_Condition    1045\n",
       "dtype: int64"
      ]
     },
     "execution_count": 61,
     "metadata": {},
     "output_type": "execute_result"
    }
   ],
   "source": [
    "df.isna().sum()[df.isna().sum()>0]"
   ]
  },
  {
   "cell_type": "code",
   "execution_count": 62,
   "metadata": {},
   "outputs": [
    {
     "data": {
      "text/plain": [
       "(122942, 33)"
      ]
     },
     "execution_count": 62,
     "metadata": {},
     "output_type": "execute_result"
    }
   ],
   "source": [
    "df.shape"
   ]
  },
  {
   "cell_type": "code",
   "execution_count": 63,
   "metadata": {},
   "outputs": [],
   "source": [
    "# Dropping rows with little NaN"
   ]
  },
  {
   "cell_type": "code",
   "execution_count": 64,
   "metadata": {},
   "outputs": [],
   "source": [
    "df = df.dropna(subset = ['Street']).reset_index(drop = True)"
   ]
  },
  {
   "cell_type": "code",
   "execution_count": 65,
   "metadata": {},
   "outputs": [],
   "source": [
    "df = df.dropna(subset = ['Pressure(in)']).reset_index(drop = True)"
   ]
  },
  {
   "cell_type": "code",
   "execution_count": 66,
   "metadata": {},
   "outputs": [
    {
     "name": "stderr",
     "output_type": "stream",
     "text": [
      "C:\\Users\\Luis Delgado\\AppData\\Local\\Temp\\ipykernel_24488\\3541851716.py:2: FutureWarning: A value is trying to be set on a copy of a DataFrame or Series through chained assignment using an inplace method.\n",
      "The behavior will change in pandas 3.0. This inplace method will never work because the intermediate object on which we are setting values always behaves as a copy.\n",
      "\n",
      "For example, when doing 'df[col].method(value, inplace=True)', try using 'df.method({col: value}, inplace=True)' or df[col] = df[col].method(value) instead, to perform the operation inplace on the original object.\n",
      "\n",
      "\n",
      "  df['Temperature(F)'].fillna(df['Temperature(F)'].mean(), inplace=True)\n"
     ]
    }
   ],
   "source": [
    "# The following useful columns with many NaN values will be filled with the mean to avoid dropping more data\n",
    "df['Temperature(F)'].fillna(df['Temperature(F)'].mean(), inplace=True)\n"
   ]
  },
  {
   "cell_type": "code",
   "execution_count": 67,
   "metadata": {},
   "outputs": [
    {
     "name": "stderr",
     "output_type": "stream",
     "text": [
      "C:\\Users\\Luis Delgado\\AppData\\Local\\Temp\\ipykernel_24488\\2119085980.py:1: FutureWarning: A value is trying to be set on a copy of a DataFrame or Series through chained assignment using an inplace method.\n",
      "The behavior will change in pandas 3.0. This inplace method will never work because the intermediate object on which we are setting values always behaves as a copy.\n",
      "\n",
      "For example, when doing 'df[col].method(value, inplace=True)', try using 'df.method({col: value}, inplace=True)' or df[col] = df[col].method(value) instead, to perform the operation inplace on the original object.\n",
      "\n",
      "\n",
      "  df['Wind_Chill(F)'].fillna(df['Wind_Chill(F)'].mean(), inplace=True)\n"
     ]
    }
   ],
   "source": [
    "df['Wind_Chill(F)'].fillna(df['Wind_Chill(F)'].mean(), inplace=True)\n"
   ]
  },
  {
   "cell_type": "code",
   "execution_count": 68,
   "metadata": {},
   "outputs": [
    {
     "name": "stderr",
     "output_type": "stream",
     "text": [
      "C:\\Users\\Luis Delgado\\AppData\\Local\\Temp\\ipykernel_24488\\3101885415.py:1: FutureWarning: A value is trying to be set on a copy of a DataFrame or Series through chained assignment using an inplace method.\n",
      "The behavior will change in pandas 3.0. This inplace method will never work because the intermediate object on which we are setting values always behaves as a copy.\n",
      "\n",
      "For example, when doing 'df[col].method(value, inplace=True)', try using 'df.method({col: value}, inplace=True)' or df[col] = df[col].method(value) instead, to perform the operation inplace on the original object.\n",
      "\n",
      "\n",
      "  df['Precipitation(in)'].fillna(df['Precipitation(in)'].mean(), inplace=True)\n"
     ]
    }
   ],
   "source": [
    "df['Precipitation(in)'].fillna(df['Precipitation(in)'].mean(), inplace=True)\n"
   ]
  },
  {
   "cell_type": "code",
   "execution_count": 69,
   "metadata": {},
   "outputs": [
    {
     "name": "stderr",
     "output_type": "stream",
     "text": [
      "C:\\Users\\Luis Delgado\\AppData\\Local\\Temp\\ipykernel_24488\\3966286156.py:1: FutureWarning: A value is trying to be set on a copy of a DataFrame or Series through chained assignment using an inplace method.\n",
      "The behavior will change in pandas 3.0. This inplace method will never work because the intermediate object on which we are setting values always behaves as a copy.\n",
      "\n",
      "For example, when doing 'df[col].method(value, inplace=True)', try using 'df.method({col: value}, inplace=True)' or df[col] = df[col].method(value) instead, to perform the operation inplace on the original object.\n",
      "\n",
      "\n",
      "  df['Wind_Speed(mph)'].fillna(df['Wind_Speed(mph)'].mean(), inplace=True)\n"
     ]
    }
   ],
   "source": [
    "df['Wind_Speed(mph)'].fillna(df['Wind_Speed(mph)'].mean(), inplace=True)"
   ]
  },
  {
   "cell_type": "code",
   "execution_count": 70,
   "metadata": {},
   "outputs": [
    {
     "name": "stderr",
     "output_type": "stream",
     "text": [
      "C:\\Users\\Luis Delgado\\AppData\\Local\\Temp\\ipykernel_24488\\4275028072.py:1: FutureWarning: A value is trying to be set on a copy of a DataFrame or Series through chained assignment using an inplace method.\n",
      "The behavior will change in pandas 3.0. This inplace method will never work because the intermediate object on which we are setting values always behaves as a copy.\n",
      "\n",
      "For example, when doing 'df[col].method(value, inplace=True)', try using 'df.method({col: value}, inplace=True)' or df[col] = df[col].method(value) instead, to perform the operation inplace on the original object.\n",
      "\n",
      "\n",
      "  df['Humidity(%)'].fillna(df['Humidity(%)'].mean(), inplace=True)\n"
     ]
    }
   ],
   "source": [
    "df['Humidity(%)'].fillna(df['Humidity(%)'].mean(), inplace=True)"
   ]
  },
  {
   "cell_type": "code",
   "execution_count": 71,
   "metadata": {},
   "outputs": [
    {
     "name": "stderr",
     "output_type": "stream",
     "text": [
      "C:\\Users\\Luis Delgado\\AppData\\Local\\Temp\\ipykernel_24488\\3688051799.py:1: FutureWarning: A value is trying to be set on a copy of a DataFrame or Series through chained assignment using an inplace method.\n",
      "The behavior will change in pandas 3.0. This inplace method will never work because the intermediate object on which we are setting values always behaves as a copy.\n",
      "\n",
      "For example, when doing 'df[col].method(value, inplace=True)', try using 'df.method({col: value}, inplace=True)' or df[col] = df[col].method(value) instead, to perform the operation inplace on the original object.\n",
      "\n",
      "\n",
      "  df['Visibility(mi)'].fillna(df['Visibility(mi)'].mean(), inplace=True)\n"
     ]
    }
   ],
   "source": [
    "df['Visibility(mi)'].fillna(df['Visibility(mi)'].mean(), inplace=True)"
   ]
  },
  {
   "cell_type": "code",
   "execution_count": 72,
   "metadata": {},
   "outputs": [
    {
     "name": "stderr",
     "output_type": "stream",
     "text": [
      "C:\\Users\\Luis Delgado\\AppData\\Local\\Temp\\ipykernel_24488\\4076273199.py:2: FutureWarning: A value is trying to be set on a copy of a DataFrame or Series through chained assignment using an inplace method.\n",
      "The behavior will change in pandas 3.0. This inplace method will never work because the intermediate object on which we are setting values always behaves as a copy.\n",
      "\n",
      "For example, when doing 'df[col].method(value, inplace=True)', try using 'df.method({col: value}, inplace=True)' or df[col] = df[col].method(value) instead, to perform the operation inplace on the original object.\n",
      "\n",
      "\n",
      "  df['Weather_Condition'].fillna(df['Weather_Condition'].mode()[0], inplace=True)\n"
     ]
    }
   ],
   "source": [
    "# Mode Imputation. Filling NaN values with the most common value\n",
    "df['Weather_Condition'].fillna(df['Weather_Condition'].mode()[0], inplace=True)"
   ]
  },
  {
   "cell_type": "code",
   "execution_count": 73,
   "metadata": {},
   "outputs": [
    {
     "data": {
      "text/plain": [
       "Series([], dtype: int64)"
      ]
     },
     "execution_count": 73,
     "metadata": {},
     "output_type": "execute_result"
    }
   ],
   "source": [
    "# There shouldn't be more missing data in the dataset\n",
    "df.isna().sum()[df.isna().sum()>0]"
   ]
  },
  {
   "cell_type": "code",
   "execution_count": 74,
   "metadata": {},
   "outputs": [
    {
     "data": {
      "text/plain": [
       "(122428, 33)"
      ]
     },
     "execution_count": 74,
     "metadata": {},
     "output_type": "execute_result"
    }
   ],
   "source": [
    "# Check final size\n",
    "df.shape"
   ]
  },
  {
   "cell_type": "code",
   "execution_count": 75,
   "metadata": {},
   "outputs": [
    {
     "name": "stdout",
     "output_type": "stream",
     "text": [
      "Requirement already satisfied: scipy in c:\\users\\luis delgado\\appdata\\local\\programs\\python\\python311\\lib\\site-packages (1.12.0)\n",
      "Requirement already satisfied: numpy<1.29.0,>=1.22.4 in c:\\users\\luis delgado\\appdata\\local\\programs\\python\\python311\\lib\\site-packages (from scipy) (1.26.4)\n"
     ]
    },
    {
     "name": "stderr",
     "output_type": "stream",
     "text": [
      "\n",
      "[notice] A new release of pip available: 22.3 -> 24.0\n",
      "[notice] To update, run: python.exe -m pip install --upgrade pip\n"
     ]
    }
   ],
   "source": [
    "# Getting rid of Outliers\n",
    "!pip install scipy\n",
    "from scipy.stats import zscore\n"
   ]
  },
  {
   "cell_type": "code",
   "execution_count": 76,
   "metadata": {},
   "outputs": [],
   "source": [
    "features_considered = ['Temperature(F)', 'Visibility(mi)', 'Pressure(in)', 'Precipitation(in)', 'Humidity(%)', 'Wind_Chill(F)', 'Wind_Speed(mph)']\n",
    "z_scores = zscore(df[features_considered], nan_policy='omit')"
   ]
  },
  {
   "cell_type": "code",
   "execution_count": 77,
   "metadata": {},
   "outputs": [
    {
     "data": {
      "text/html": [
       "<div>\n",
       "<style scoped>\n",
       "    .dataframe tbody tr th:only-of-type {\n",
       "        vertical-align: middle;\n",
       "    }\n",
       "\n",
       "    .dataframe tbody tr th {\n",
       "        vertical-align: top;\n",
       "    }\n",
       "\n",
       "    .dataframe thead th {\n",
       "        text-align: right;\n",
       "    }\n",
       "</style>\n",
       "<table border=\"1\" class=\"dataframe\">\n",
       "  <thead>\n",
       "    <tr style=\"text-align: right;\">\n",
       "      <th></th>\n",
       "      <th>Temperature(F)</th>\n",
       "      <th>Visibility(mi)</th>\n",
       "      <th>Pressure(in)</th>\n",
       "      <th>Precipitation(in)</th>\n",
       "      <th>Humidity(%)</th>\n",
       "      <th>Wind_Chill(F)</th>\n",
       "      <th>Wind_Speed(mph)</th>\n",
       "    </tr>\n",
       "  </thead>\n",
       "  <tbody>\n",
       "    <tr>\n",
       "      <th>0</th>\n",
       "      <td>-0.057131</td>\n",
       "      <td>0.212910</td>\n",
       "      <td>-0.696241</td>\n",
       "      <td>-2.431265e-17</td>\n",
       "      <td>0.465712</td>\n",
       "      <td>0.0</td>\n",
       "      <td>4.350862e-01</td>\n",
       "    </tr>\n",
       "    <tr>\n",
       "      <th>1</th>\n",
       "      <td>-0.057131</td>\n",
       "      <td>0.212910</td>\n",
       "      <td>-0.388510</td>\n",
       "      <td>-2.431265e-17</td>\n",
       "      <td>0.465712</td>\n",
       "      <td>0.0</td>\n",
       "      <td>-9.556509e-01</td>\n",
       "    </tr>\n",
       "    <tr>\n",
       "      <th>2</th>\n",
       "      <td>-0.616499</td>\n",
       "      <td>0.212910</td>\n",
       "      <td>-0.388510</td>\n",
       "      <td>-1.302496e-01</td>\n",
       "      <td>1.655153</td>\n",
       "      <td>0.0</td>\n",
       "      <td>3.580356e-16</td>\n",
       "    </tr>\n",
       "    <tr>\n",
       "      <th>3</th>\n",
       "      <td>-0.469998</td>\n",
       "      <td>-2.884257</td>\n",
       "      <td>-0.491087</td>\n",
       "      <td>-2.431265e-17</td>\n",
       "      <td>1.725120</td>\n",
       "      <td>0.0</td>\n",
       "      <td>-1.177363e+00</td>\n",
       "    </tr>\n",
       "    <tr>\n",
       "      <th>4</th>\n",
       "      <td>-0.203632</td>\n",
       "      <td>0.212910</td>\n",
       "      <td>-0.183356</td>\n",
       "      <td>-2.431265e-17</td>\n",
       "      <td>1.445251</td>\n",
       "      <td>0.0</td>\n",
       "      <td>3.580356e-16</td>\n",
       "    </tr>\n",
       "  </tbody>\n",
       "</table>\n",
       "</div>"
      ],
      "text/plain": [
       "   Temperature(F)  Visibility(mi)  Pressure(in)  Precipitation(in)  \\\n",
       "0       -0.057131        0.212910     -0.696241      -2.431265e-17   \n",
       "1       -0.057131        0.212910     -0.388510      -2.431265e-17   \n",
       "2       -0.616499        0.212910     -0.388510      -1.302496e-01   \n",
       "3       -0.469998       -2.884257     -0.491087      -2.431265e-17   \n",
       "4       -0.203632        0.212910     -0.183356      -2.431265e-17   \n",
       "\n",
       "   Humidity(%)  Wind_Chill(F)  Wind_Speed(mph)  \n",
       "0     0.465712            0.0     4.350862e-01  \n",
       "1     0.465712            0.0    -9.556509e-01  \n",
       "2     1.655153            0.0     3.580356e-16  \n",
       "3     1.725120            0.0    -1.177363e+00  \n",
       "4     1.445251            0.0     3.580356e-16  "
      ]
     },
     "execution_count": 77,
     "metadata": {},
     "output_type": "execute_result"
    }
   ],
   "source": [
    "z_scores.head()"
   ]
  },
  {
   "cell_type": "code",
   "execution_count": 78,
   "metadata": {},
   "outputs": [],
   "source": [
    "# convert to absolute values\n",
    "abs_z_scores = np.abs(z_scores)\n",
    "# filter based on |z-score| less than 3\n",
    "filtered_entries = (abs_z_scores < 3).all(axis=1)"
   ]
  },
  {
   "cell_type": "code",
   "execution_count": 79,
   "metadata": {},
   "outputs": [
    {
     "data": {
      "text/plain": [
       "0         True\n",
       "1         True\n",
       "2         True\n",
       "3         True\n",
       "4         True\n",
       "          ... \n",
       "122423    True\n",
       "122424    True\n",
       "122425    True\n",
       "122426    True\n",
       "122427    True\n",
       "Length: 122428, dtype: bool"
      ]
     },
     "execution_count": 79,
     "metadata": {},
     "output_type": "execute_result"
    }
   ],
   "source": [
    "filtered_entries"
   ]
  },
  {
   "cell_type": "code",
   "execution_count": 80,
   "metadata": {},
   "outputs": [
    {
     "name": "stdout",
     "output_type": "stream",
     "text": [
      "Outliers present in the dataset\n"
     ]
    },
    {
     "data": {
      "text/html": [
       "<div>\n",
       "<style scoped>\n",
       "    .dataframe tbody tr th:only-of-type {\n",
       "        vertical-align: middle;\n",
       "    }\n",
       "\n",
       "    .dataframe tbody tr th {\n",
       "        vertical-align: top;\n",
       "    }\n",
       "\n",
       "    .dataframe thead th {\n",
       "        text-align: right;\n",
       "    }\n",
       "</style>\n",
       "<table border=\"1\" class=\"dataframe\">\n",
       "  <thead>\n",
       "    <tr style=\"text-align: right;\">\n",
       "      <th></th>\n",
       "      <th>ID</th>\n",
       "      <th>Severity</th>\n",
       "      <th>Start_Time</th>\n",
       "      <th>End_Time</th>\n",
       "      <th>Start_Lat</th>\n",
       "      <th>Start_Lng</th>\n",
       "      <th>End_Lat</th>\n",
       "      <th>End_Lng</th>\n",
       "      <th>Distance(mi)</th>\n",
       "      <th>Description</th>\n",
       "      <th>...</th>\n",
       "      <th>Junction</th>\n",
       "      <th>No_Exit</th>\n",
       "      <th>Railway</th>\n",
       "      <th>Roundabout</th>\n",
       "      <th>Station</th>\n",
       "      <th>Stop</th>\n",
       "      <th>Traffic_Calming</th>\n",
       "      <th>Traffic_Signal</th>\n",
       "      <th>Turning_Loop</th>\n",
       "      <th>Sunrise_Sunset</th>\n",
       "    </tr>\n",
       "  </thead>\n",
       "  <tbody>\n",
       "    <tr>\n",
       "      <th>70</th>\n",
       "      <td>A-3447851</td>\n",
       "      <td>3</td>\n",
       "      <td>2016-12-08 07:07:05</td>\n",
       "      <td>2016-12-08 07:07:05</td>\n",
       "      <td>25.844400</td>\n",
       "      <td>-80.206670</td>\n",
       "      <td>25.865180</td>\n",
       "      <td>-80.208210</td>\n",
       "      <td>1.439</td>\n",
       "      <td>Between SR-934/79th St/Exit 7 and 95th St/Exit...</td>\n",
       "      <td>...</td>\n",
       "      <td>False</td>\n",
       "      <td>False</td>\n",
       "      <td>False</td>\n",
       "      <td>False</td>\n",
       "      <td>False</td>\n",
       "      <td>False</td>\n",
       "      <td>False</td>\n",
       "      <td>False</td>\n",
       "      <td>False</td>\n",
       "      <td>Day</td>\n",
       "    </tr>\n",
       "    <tr>\n",
       "      <th>71</th>\n",
       "      <td>A-3447906</td>\n",
       "      <td>2</td>\n",
       "      <td>2016-12-08 09:25:55</td>\n",
       "      <td>2016-12-08 09:25:55</td>\n",
       "      <td>25.780840</td>\n",
       "      <td>-80.199890</td>\n",
       "      <td>25.798780</td>\n",
       "      <td>-80.205380</td>\n",
       "      <td>1.286</td>\n",
       "      <td>At I-395/SR-836/Exit 2/Exit 3 - Accident.</td>\n",
       "      <td>...</td>\n",
       "      <td>True</td>\n",
       "      <td>False</td>\n",
       "      <td>False</td>\n",
       "      <td>False</td>\n",
       "      <td>False</td>\n",
       "      <td>False</td>\n",
       "      <td>False</td>\n",
       "      <td>False</td>\n",
       "      <td>False</td>\n",
       "      <td>Day</td>\n",
       "    </tr>\n",
       "    <tr>\n",
       "      <th>73</th>\n",
       "      <td>A-3448068</td>\n",
       "      <td>2</td>\n",
       "      <td>2016-12-08 15:56:08</td>\n",
       "      <td>2016-12-08 15:56:08</td>\n",
       "      <td>25.679730</td>\n",
       "      <td>-80.388750</td>\n",
       "      <td>25.691820</td>\n",
       "      <td>-80.388550</td>\n",
       "      <td>0.835</td>\n",
       "      <td>At SR-94/Kendall Dr/Exit 20 - Accident.</td>\n",
       "      <td>...</td>\n",
       "      <td>True</td>\n",
       "      <td>False</td>\n",
       "      <td>False</td>\n",
       "      <td>False</td>\n",
       "      <td>False</td>\n",
       "      <td>False</td>\n",
       "      <td>False</td>\n",
       "      <td>False</td>\n",
       "      <td>False</td>\n",
       "      <td>Day</td>\n",
       "    </tr>\n",
       "    <tr>\n",
       "      <th>95</th>\n",
       "      <td>A-3448682</td>\n",
       "      <td>2</td>\n",
       "      <td>2016-12-10 09:30:33</td>\n",
       "      <td>2016-12-10 09:30:33</td>\n",
       "      <td>25.903540</td>\n",
       "      <td>-80.210270</td>\n",
       "      <td>25.895060</td>\n",
       "      <td>-80.209740</td>\n",
       "      <td>0.587</td>\n",
       "      <td>At 135th St/Opa Locka Blvd/Exit 10 - Accident.</td>\n",
       "      <td>...</td>\n",
       "      <td>True</td>\n",
       "      <td>False</td>\n",
       "      <td>False</td>\n",
       "      <td>False</td>\n",
       "      <td>False</td>\n",
       "      <td>False</td>\n",
       "      <td>False</td>\n",
       "      <td>False</td>\n",
       "      <td>False</td>\n",
       "      <td>Day</td>\n",
       "    </tr>\n",
       "    <tr>\n",
       "      <th>96</th>\n",
       "      <td>A-3448686</td>\n",
       "      <td>2</td>\n",
       "      <td>2016-12-10 09:30:33</td>\n",
       "      <td>2016-12-10 09:30:33</td>\n",
       "      <td>25.844400</td>\n",
       "      <td>-80.206670</td>\n",
       "      <td>25.851680</td>\n",
       "      <td>-80.207780</td>\n",
       "      <td>0.508</td>\n",
       "      <td>At SR-934/79th St/Exit 7 - Accident.</td>\n",
       "      <td>...</td>\n",
       "      <td>False</td>\n",
       "      <td>False</td>\n",
       "      <td>False</td>\n",
       "      <td>False</td>\n",
       "      <td>False</td>\n",
       "      <td>False</td>\n",
       "      <td>False</td>\n",
       "      <td>False</td>\n",
       "      <td>False</td>\n",
       "      <td>Day</td>\n",
       "    </tr>\n",
       "    <tr>\n",
       "      <th>...</th>\n",
       "      <td>...</td>\n",
       "      <td>...</td>\n",
       "      <td>...</td>\n",
       "      <td>...</td>\n",
       "      <td>...</td>\n",
       "      <td>...</td>\n",
       "      <td>...</td>\n",
       "      <td>...</td>\n",
       "      <td>...</td>\n",
       "      <td>...</td>\n",
       "      <td>...</td>\n",
       "      <td>...</td>\n",
       "      <td>...</td>\n",
       "      <td>...</td>\n",
       "      <td>...</td>\n",
       "      <td>...</td>\n",
       "      <td>...</td>\n",
       "      <td>...</td>\n",
       "      <td>...</td>\n",
       "      <td>...</td>\n",
       "      <td>...</td>\n",
       "    </tr>\n",
       "    <tr>\n",
       "      <th>122293</th>\n",
       "      <td>A-7767175</td>\n",
       "      <td>4</td>\n",
       "      <td>2019-08-01 05:43:44</td>\n",
       "      <td>2019-08-01 05:43:44</td>\n",
       "      <td>25.949511</td>\n",
       "      <td>-80.182727</td>\n",
       "      <td>26.043400</td>\n",
       "      <td>-80.162880</td>\n",
       "      <td>6.603</td>\n",
       "      <td>Closed between SR-860/Miami Gardens Dr and I-9...</td>\n",
       "      <td>...</td>\n",
       "      <td>True</td>\n",
       "      <td>False</td>\n",
       "      <td>False</td>\n",
       "      <td>False</td>\n",
       "      <td>False</td>\n",
       "      <td>False</td>\n",
       "      <td>False</td>\n",
       "      <td>False</td>\n",
       "      <td>False</td>\n",
       "      <td>Night</td>\n",
       "    </tr>\n",
       "    <tr>\n",
       "      <th>122308</th>\n",
       "      <td>A-7767757</td>\n",
       "      <td>3</td>\n",
       "      <td>2019-08-02 04:11:26</td>\n",
       "      <td>2019-08-02 04:11:26</td>\n",
       "      <td>25.940610</td>\n",
       "      <td>-80.190460</td>\n",
       "      <td>25.946880</td>\n",
       "      <td>-80.185370</td>\n",
       "      <td>0.536</td>\n",
       "      <td>At SR-860/Miami Gardens Dr/Exit 14 - Accident.</td>\n",
       "      <td>...</td>\n",
       "      <td>True</td>\n",
       "      <td>False</td>\n",
       "      <td>False</td>\n",
       "      <td>False</td>\n",
       "      <td>False</td>\n",
       "      <td>False</td>\n",
       "      <td>False</td>\n",
       "      <td>False</td>\n",
       "      <td>False</td>\n",
       "      <td>Night</td>\n",
       "    </tr>\n",
       "    <tr>\n",
       "      <th>122343</th>\n",
       "      <td>A-7770612</td>\n",
       "      <td>3</td>\n",
       "      <td>2019-08-08 15:33:34</td>\n",
       "      <td>2019-08-08 15:33:34</td>\n",
       "      <td>25.845730</td>\n",
       "      <td>-80.322470</td>\n",
       "      <td>25.837800</td>\n",
       "      <td>-80.322220</td>\n",
       "      <td>0.548</td>\n",
       "      <td>At 74th St - Accident.</td>\n",
       "      <td>...</td>\n",
       "      <td>True</td>\n",
       "      <td>False</td>\n",
       "      <td>False</td>\n",
       "      <td>False</td>\n",
       "      <td>False</td>\n",
       "      <td>False</td>\n",
       "      <td>False</td>\n",
       "      <td>False</td>\n",
       "      <td>False</td>\n",
       "      <td>Day</td>\n",
       "    </tr>\n",
       "    <tr>\n",
       "      <th>122370</th>\n",
       "      <td>A-7772702</td>\n",
       "      <td>2</td>\n",
       "      <td>2019-08-13 20:43:04</td>\n",
       "      <td>2019-08-13 20:43:04</td>\n",
       "      <td>25.963640</td>\n",
       "      <td>-80.149540</td>\n",
       "      <td>25.963640</td>\n",
       "      <td>-80.149540</td>\n",
       "      <td>0.000</td>\n",
       "      <td>At 26th Ave - Accident.</td>\n",
       "      <td>...</td>\n",
       "      <td>False</td>\n",
       "      <td>False</td>\n",
       "      <td>False</td>\n",
       "      <td>False</td>\n",
       "      <td>False</td>\n",
       "      <td>False</td>\n",
       "      <td>False</td>\n",
       "      <td>True</td>\n",
       "      <td>False</td>\n",
       "      <td>Night</td>\n",
       "    </tr>\n",
       "    <tr>\n",
       "      <th>122376</th>\n",
       "      <td>A-7773261</td>\n",
       "      <td>3</td>\n",
       "      <td>2019-08-14 13:05:47</td>\n",
       "      <td>2019-08-14 13:05:47</td>\n",
       "      <td>25.781091</td>\n",
       "      <td>-80.172207</td>\n",
       "      <td>25.781091</td>\n",
       "      <td>-80.172207</td>\n",
       "      <td>0.000</td>\n",
       "      <td>At SR-A1A/5th St - Accident.</td>\n",
       "      <td>...</td>\n",
       "      <td>False</td>\n",
       "      <td>False</td>\n",
       "      <td>False</td>\n",
       "      <td>False</td>\n",
       "      <td>False</td>\n",
       "      <td>False</td>\n",
       "      <td>False</td>\n",
       "      <td>False</td>\n",
       "      <td>False</td>\n",
       "      <td>Day</td>\n",
       "    </tr>\n",
       "  </tbody>\n",
       "</table>\n",
       "<p>6471 rows × 33 columns</p>\n",
       "</div>"
      ],
      "text/plain": [
       "               ID  Severity          Start_Time            End_Time  \\\n",
       "70      A-3447851         3 2016-12-08 07:07:05 2016-12-08 07:07:05   \n",
       "71      A-3447906         2 2016-12-08 09:25:55 2016-12-08 09:25:55   \n",
       "73      A-3448068         2 2016-12-08 15:56:08 2016-12-08 15:56:08   \n",
       "95      A-3448682         2 2016-12-10 09:30:33 2016-12-10 09:30:33   \n",
       "96      A-3448686         2 2016-12-10 09:30:33 2016-12-10 09:30:33   \n",
       "...           ...       ...                 ...                 ...   \n",
       "122293  A-7767175         4 2019-08-01 05:43:44 2019-08-01 05:43:44   \n",
       "122308  A-7767757         3 2019-08-02 04:11:26 2019-08-02 04:11:26   \n",
       "122343  A-7770612         3 2019-08-08 15:33:34 2019-08-08 15:33:34   \n",
       "122370  A-7772702         2 2019-08-13 20:43:04 2019-08-13 20:43:04   \n",
       "122376  A-7773261         3 2019-08-14 13:05:47 2019-08-14 13:05:47   \n",
       "\n",
       "        Start_Lat  Start_Lng    End_Lat    End_Lng  Distance(mi)  \\\n",
       "70      25.844400 -80.206670  25.865180 -80.208210         1.439   \n",
       "71      25.780840 -80.199890  25.798780 -80.205380         1.286   \n",
       "73      25.679730 -80.388750  25.691820 -80.388550         0.835   \n",
       "95      25.903540 -80.210270  25.895060 -80.209740         0.587   \n",
       "96      25.844400 -80.206670  25.851680 -80.207780         0.508   \n",
       "...           ...        ...        ...        ...           ...   \n",
       "122293  25.949511 -80.182727  26.043400 -80.162880         6.603   \n",
       "122308  25.940610 -80.190460  25.946880 -80.185370         0.536   \n",
       "122343  25.845730 -80.322470  25.837800 -80.322220         0.548   \n",
       "122370  25.963640 -80.149540  25.963640 -80.149540         0.000   \n",
       "122376  25.781091 -80.172207  25.781091 -80.172207         0.000   \n",
       "\n",
       "                                              Description  ... Junction  \\\n",
       "70      Between SR-934/79th St/Exit 7 and 95th St/Exit...  ...    False   \n",
       "71              At I-395/SR-836/Exit 2/Exit 3 - Accident.  ...     True   \n",
       "73                At SR-94/Kendall Dr/Exit 20 - Accident.  ...     True   \n",
       "95         At 135th St/Opa Locka Blvd/Exit 10 - Accident.  ...     True   \n",
       "96                   At SR-934/79th St/Exit 7 - Accident.  ...    False   \n",
       "...                                                   ...  ...      ...   \n",
       "122293  Closed between SR-860/Miami Gardens Dr and I-9...  ...     True   \n",
       "122308     At SR-860/Miami Gardens Dr/Exit 14 - Accident.  ...     True   \n",
       "122343                             At 74th St - Accident.  ...     True   \n",
       "122370                            At 26th Ave - Accident.  ...    False   \n",
       "122376                       At SR-A1A/5th St - Accident.  ...    False   \n",
       "\n",
       "       No_Exit  Railway  Roundabout  Station   Stop  Traffic_Calming  \\\n",
       "70       False    False       False    False  False            False   \n",
       "71       False    False       False    False  False            False   \n",
       "73       False    False       False    False  False            False   \n",
       "95       False    False       False    False  False            False   \n",
       "96       False    False       False    False  False            False   \n",
       "...        ...      ...         ...      ...    ...              ...   \n",
       "122293   False    False       False    False  False            False   \n",
       "122308   False    False       False    False  False            False   \n",
       "122343   False    False       False    False  False            False   \n",
       "122370   False    False       False    False  False            False   \n",
       "122376   False    False       False    False  False            False   \n",
       "\n",
       "        Traffic_Signal  Turning_Loop Sunrise_Sunset  \n",
       "70               False         False            Day  \n",
       "71               False         False            Day  \n",
       "73               False         False            Day  \n",
       "95               False         False            Day  \n",
       "96               False         False            Day  \n",
       "...                ...           ...            ...  \n",
       "122293           False         False          Night  \n",
       "122308           False         False          Night  \n",
       "122343           False         False            Day  \n",
       "122370            True         False          Night  \n",
       "122376           False         False            Day  \n",
       "\n",
       "[6471 rows x 33 columns]"
      ]
     },
     "execution_count": 80,
     "metadata": {},
     "output_type": "execute_result"
    }
   ],
   "source": [
    "print(\"Outliers present in the dataset\")\n",
    "df.loc[filtered_entries == False]"
   ]
  },
  {
   "cell_type": "code",
   "execution_count": 81,
   "metadata": {},
   "outputs": [
    {
     "name": "stdout",
     "output_type": "stream",
     "text": [
      "Number of rows after filtering outliers 115957\n"
     ]
    },
    {
     "data": {
      "text/html": [
       "<div>\n",
       "<style scoped>\n",
       "    .dataframe tbody tr th:only-of-type {\n",
       "        vertical-align: middle;\n",
       "    }\n",
       "\n",
       "    .dataframe tbody tr th {\n",
       "        vertical-align: top;\n",
       "    }\n",
       "\n",
       "    .dataframe thead th {\n",
       "        text-align: right;\n",
       "    }\n",
       "</style>\n",
       "<table border=\"1\" class=\"dataframe\">\n",
       "  <thead>\n",
       "    <tr style=\"text-align: right;\">\n",
       "      <th></th>\n",
       "      <th>ID</th>\n",
       "      <th>Severity</th>\n",
       "      <th>Start_Time</th>\n",
       "      <th>End_Time</th>\n",
       "      <th>Start_Lat</th>\n",
       "      <th>Start_Lng</th>\n",
       "      <th>End_Lat</th>\n",
       "      <th>End_Lng</th>\n",
       "      <th>Distance(mi)</th>\n",
       "      <th>Description</th>\n",
       "      <th>...</th>\n",
       "      <th>Junction</th>\n",
       "      <th>No_Exit</th>\n",
       "      <th>Railway</th>\n",
       "      <th>Roundabout</th>\n",
       "      <th>Station</th>\n",
       "      <th>Stop</th>\n",
       "      <th>Traffic_Calming</th>\n",
       "      <th>Traffic_Signal</th>\n",
       "      <th>Turning_Loop</th>\n",
       "      <th>Sunrise_Sunset</th>\n",
       "    </tr>\n",
       "  </thead>\n",
       "  <tbody>\n",
       "    <tr>\n",
       "      <th>0</th>\n",
       "      <td>A-3445214</td>\n",
       "      <td>2</td>\n",
       "      <td>2016-11-30 16:35:52</td>\n",
       "      <td>2016-11-30 16:35:52</td>\n",
       "      <td>25.78601</td>\n",
       "      <td>-80.25809</td>\n",
       "      <td>25.78336</td>\n",
       "      <td>-80.26911</td>\n",
       "      <td>0.710</td>\n",
       "      <td>At SR-953/42nd Ave/Le Jeune Rd - Accident.</td>\n",
       "      <td>...</td>\n",
       "      <td>False</td>\n",
       "      <td>False</td>\n",
       "      <td>False</td>\n",
       "      <td>False</td>\n",
       "      <td>False</td>\n",
       "      <td>False</td>\n",
       "      <td>False</td>\n",
       "      <td>False</td>\n",
       "      <td>False</td>\n",
       "      <td>Day</td>\n",
       "    </tr>\n",
       "    <tr>\n",
       "      <th>1</th>\n",
       "      <td>A-3445282</td>\n",
       "      <td>2</td>\n",
       "      <td>2016-11-30 18:35:52</td>\n",
       "      <td>2016-11-30 18:35:52</td>\n",
       "      <td>25.66214</td>\n",
       "      <td>-80.38860</td>\n",
       "      <td>25.65292</td>\n",
       "      <td>-80.38712</td>\n",
       "      <td>0.644</td>\n",
       "      <td>At 120th St/Exit 19 - Accident.</td>\n",
       "      <td>...</td>\n",
       "      <td>False</td>\n",
       "      <td>False</td>\n",
       "      <td>False</td>\n",
       "      <td>False</td>\n",
       "      <td>False</td>\n",
       "      <td>False</td>\n",
       "      <td>False</td>\n",
       "      <td>False</td>\n",
       "      <td>False</td>\n",
       "      <td>Night</td>\n",
       "    </tr>\n",
       "    <tr>\n",
       "      <th>2</th>\n",
       "      <td>A-3445359</td>\n",
       "      <td>2</td>\n",
       "      <td>2016-12-01 05:51:51</td>\n",
       "      <td>2016-12-01 05:51:51</td>\n",
       "      <td>25.97053</td>\n",
       "      <td>-80.16576</td>\n",
       "      <td>25.95995</td>\n",
       "      <td>-80.16870</td>\n",
       "      <td>0.753</td>\n",
       "      <td>At Ives Dairy Rd/203rd St/Exit 16 - Accident.</td>\n",
       "      <td>...</td>\n",
       "      <td>False</td>\n",
       "      <td>False</td>\n",
       "      <td>False</td>\n",
       "      <td>False</td>\n",
       "      <td>False</td>\n",
       "      <td>False</td>\n",
       "      <td>False</td>\n",
       "      <td>False</td>\n",
       "      <td>False</td>\n",
       "      <td>Night</td>\n",
       "    </tr>\n",
       "    <tr>\n",
       "      <th>3</th>\n",
       "      <td>A-3445360</td>\n",
       "      <td>3</td>\n",
       "      <td>2016-12-01 06:03:23</td>\n",
       "      <td>2016-12-01 06:03:23</td>\n",
       "      <td>25.78447</td>\n",
       "      <td>-80.29346</td>\n",
       "      <td>25.78488</td>\n",
       "      <td>-80.28444</td>\n",
       "      <td>0.562</td>\n",
       "      <td>At SR-959/Red Rd - Accident.</td>\n",
       "      <td>...</td>\n",
       "      <td>False</td>\n",
       "      <td>False</td>\n",
       "      <td>False</td>\n",
       "      <td>False</td>\n",
       "      <td>False</td>\n",
       "      <td>False</td>\n",
       "      <td>False</td>\n",
       "      <td>False</td>\n",
       "      <td>False</td>\n",
       "      <td>Night</td>\n",
       "    </tr>\n",
       "    <tr>\n",
       "      <th>4</th>\n",
       "      <td>A-3445444</td>\n",
       "      <td>2</td>\n",
       "      <td>2016-12-01 08:21:46</td>\n",
       "      <td>2016-12-01 08:21:46</td>\n",
       "      <td>25.91310</td>\n",
       "      <td>-80.21024</td>\n",
       "      <td>25.90780</td>\n",
       "      <td>-80.21023</td>\n",
       "      <td>0.366</td>\n",
       "      <td>At 151st St/Exit 11 - Accident.</td>\n",
       "      <td>...</td>\n",
       "      <td>False</td>\n",
       "      <td>False</td>\n",
       "      <td>False</td>\n",
       "      <td>False</td>\n",
       "      <td>False</td>\n",
       "      <td>False</td>\n",
       "      <td>False</td>\n",
       "      <td>False</td>\n",
       "      <td>False</td>\n",
       "      <td>Day</td>\n",
       "    </tr>\n",
       "  </tbody>\n",
       "</table>\n",
       "<p>5 rows × 33 columns</p>\n",
       "</div>"
      ],
      "text/plain": [
       "          ID  Severity          Start_Time            End_Time  Start_Lat  \\\n",
       "0  A-3445214         2 2016-11-30 16:35:52 2016-11-30 16:35:52   25.78601   \n",
       "1  A-3445282         2 2016-11-30 18:35:52 2016-11-30 18:35:52   25.66214   \n",
       "2  A-3445359         2 2016-12-01 05:51:51 2016-12-01 05:51:51   25.97053   \n",
       "3  A-3445360         3 2016-12-01 06:03:23 2016-12-01 06:03:23   25.78447   \n",
       "4  A-3445444         2 2016-12-01 08:21:46 2016-12-01 08:21:46   25.91310   \n",
       "\n",
       "   Start_Lng   End_Lat   End_Lng  Distance(mi)  \\\n",
       "0  -80.25809  25.78336 -80.26911         0.710   \n",
       "1  -80.38860  25.65292 -80.38712         0.644   \n",
       "2  -80.16576  25.95995 -80.16870         0.753   \n",
       "3  -80.29346  25.78488 -80.28444         0.562   \n",
       "4  -80.21024  25.90780 -80.21023         0.366   \n",
       "\n",
       "                                     Description  ... Junction No_Exit  \\\n",
       "0     At SR-953/42nd Ave/Le Jeune Rd - Accident.  ...    False   False   \n",
       "1                At 120th St/Exit 19 - Accident.  ...    False   False   \n",
       "2  At Ives Dairy Rd/203rd St/Exit 16 - Accident.  ...    False   False   \n",
       "3                   At SR-959/Red Rd - Accident.  ...    False   False   \n",
       "4                At 151st St/Exit 11 - Accident.  ...    False   False   \n",
       "\n",
       "   Railway  Roundabout  Station   Stop  Traffic_Calming  Traffic_Signal  \\\n",
       "0    False       False    False  False            False           False   \n",
       "1    False       False    False  False            False           False   \n",
       "2    False       False    False  False            False           False   \n",
       "3    False       False    False  False            False           False   \n",
       "4    False       False    False  False            False           False   \n",
       "\n",
       "   Turning_Loop Sunrise_Sunset  \n",
       "0         False            Day  \n",
       "1         False          Night  \n",
       "2         False          Night  \n",
       "3         False          Night  \n",
       "4         False            Day  \n",
       "\n",
       "[5 rows x 33 columns]"
      ]
     },
     "execution_count": 81,
     "metadata": {},
     "output_type": "execute_result"
    }
   ],
   "source": [
    "# Printing total rows after removing outliers\n",
    "df_without_outliers = df[filtered_entries]\n",
    "print('Number of rows after filtering outliers', len(df_without_outliers))\n",
    "df_without_outliers.head()"
   ]
  },
  {
   "cell_type": "code",
   "execution_count": 82,
   "metadata": {},
   "outputs": [],
   "source": [
    "df.to_csv(\"Data/Miami_Accidents(Clean).csv\", index = False)"
   ]
  }
 ],
 "metadata": {
  "kernelspec": {
   "display_name": "Python 3",
   "language": "python",
   "name": "python3"
  },
  "language_info": {
   "codemirror_mode": {
    "name": "ipython",
    "version": 3
   },
   "file_extension": ".py",
   "mimetype": "text/x-python",
   "name": "python",
   "nbconvert_exporter": "python",
   "pygments_lexer": "ipython3",
   "version": "3.11.0"
  }
 },
 "nbformat": 4,
 "nbformat_minor": 2
}
