{
 "cells": [
  {
   "cell_type": "code",
   "execution_count": 1,
   "metadata": {},
   "outputs": [
    {
     "name": "stdout",
     "output_type": "stream",
     "text": [
      "Requirement already satisfied: pandas in c:\\users\\luis delgado\\appdata\\local\\programs\\python\\python311\\lib\\site-packages (2.2.1)\n",
      "Requirement already satisfied: numpy<2,>=1.23.2 in c:\\users\\luis delgado\\appdata\\local\\programs\\python\\python311\\lib\\site-packages (from pandas) (1.26.4)\n",
      "Requirement already satisfied: python-dateutil>=2.8.2 in c:\\users\\luis delgado\\appdata\\roaming\\python\\python311\\site-packages (from pandas) (2.8.2)\n",
      "Requirement already satisfied: pytz>=2020.1 in c:\\users\\luis delgado\\appdata\\local\\programs\\python\\python311\\lib\\site-packages (from pandas) (2024.1)\n",
      "Requirement already satisfied: tzdata>=2022.7 in c:\\users\\luis delgado\\appdata\\local\\programs\\python\\python311\\lib\\site-packages (from pandas) (2024.1)\n",
      "Requirement already satisfied: six>=1.5 in c:\\users\\luis delgado\\appdata\\local\\programs\\python\\python311\\lib\\site-packages (from python-dateutil>=2.8.2->pandas) (1.16.0)\n"
     ]
    },
    {
     "name": "stderr",
     "output_type": "stream",
     "text": [
      "\n",
      "[notice] A new release of pip available: 22.3 -> 24.0\n",
      "[notice] To update, run: python.exe -m pip install --upgrade pip\n"
     ]
    },
    {
     "name": "stdout",
     "output_type": "stream",
     "text": [
      "Requirement already satisfied: catboost in c:\\users\\luis delgado\\appdata\\local\\programs\\python\\python311\\lib\\site-packages (1.2.3)\n",
      "Requirement already satisfied: graphviz in c:\\users\\luis delgado\\appdata\\local\\programs\\python\\python311\\lib\\site-packages (from catboost) (0.20.3)\n",
      "Requirement already satisfied: matplotlib in c:\\users\\luis delgado\\appdata\\local\\programs\\python\\python311\\lib\\site-packages (from catboost) (3.8.2)\n",
      "Requirement already satisfied: numpy>=1.16.0 in c:\\users\\luis delgado\\appdata\\local\\programs\\python\\python311\\lib\\site-packages (from catboost) (1.26.4)\n",
      "Requirement already satisfied: pandas>=0.24 in c:\\users\\luis delgado\\appdata\\local\\programs\\python\\python311\\lib\\site-packages (from catboost) (2.2.1)\n",
      "Requirement already satisfied: scipy in c:\\users\\luis delgado\\appdata\\local\\programs\\python\\python311\\lib\\site-packages (from catboost) (1.12.0)\n",
      "Requirement already satisfied: plotly in c:\\users\\luis delgado\\appdata\\local\\programs\\python\\python311\\lib\\site-packages (from catboost) (5.20.0)\n",
      "Requirement already satisfied: six in c:\\users\\luis delgado\\appdata\\local\\programs\\python\\python311\\lib\\site-packages (from catboost) (1.16.0)\n",
      "Requirement already satisfied: python-dateutil>=2.8.2 in c:\\users\\luis delgado\\appdata\\roaming\\python\\python311\\site-packages (from pandas>=0.24->catboost) (2.8.2)\n",
      "Requirement already satisfied: pytz>=2020.1 in c:\\users\\luis delgado\\appdata\\local\\programs\\python\\python311\\lib\\site-packages (from pandas>=0.24->catboost) (2024.1)\n",
      "Requirement already satisfied: tzdata>=2022.7 in c:\\users\\luis delgado\\appdata\\local\\programs\\python\\python311\\lib\\site-packages (from pandas>=0.24->catboost) (2024.1)\n",
      "Requirement already satisfied: contourpy>=1.0.1 in c:\\users\\luis delgado\\appdata\\local\\programs\\python\\python311\\lib\\site-packages (from matplotlib->catboost) (1.2.0)\n",
      "Requirement already satisfied: cycler>=0.10 in c:\\users\\luis delgado\\appdata\\local\\programs\\python\\python311\\lib\\site-packages (from matplotlib->catboost) (0.12.1)\n",
      "Requirement already satisfied: fonttools>=4.22.0 in c:\\users\\luis delgado\\appdata\\local\\programs\\python\\python311\\lib\\site-packages (from matplotlib->catboost) (4.48.1)\n",
      "Requirement already satisfied: kiwisolver>=1.3.1 in c:\\users\\luis delgado\\appdata\\local\\programs\\python\\python311\\lib\\site-packages (from matplotlib->catboost) (1.4.5)\n",
      "Requirement already satisfied: packaging>=20.0 in c:\\users\\luis delgado\\appdata\\local\\programs\\python\\python311\\lib\\site-packages (from matplotlib->catboost) (23.2)\n",
      "Requirement already satisfied: pillow>=8 in c:\\users\\luis delgado\\appdata\\local\\programs\\python\\python311\\lib\\site-packages (from matplotlib->catboost) (10.2.0)\n",
      "Requirement already satisfied: pyparsing>=2.3.1 in c:\\users\\luis delgado\\appdata\\local\\programs\\python\\python311\\lib\\site-packages (from matplotlib->catboost) (3.1.1)\n",
      "Requirement already satisfied: tenacity>=6.2.0 in c:\\users\\luis delgado\\appdata\\local\\programs\\python\\python311\\lib\\site-packages (from plotly->catboost) (8.2.3)\n"
     ]
    },
    {
     "name": "stderr",
     "output_type": "stream",
     "text": [
      "\n",
      "[notice] A new release of pip available: 22.3 -> 24.0\n",
      "[notice] To update, run: python.exe -m pip install --upgrade pip\n"
     ]
    },
    {
     "name": "stdout",
     "output_type": "stream",
     "text": [
      "Requirement already satisfied: scikit-learn in c:\\users\\luis delgado\\appdata\\local\\programs\\python\\python311\\lib\\site-packages (1.4.1.post1)\n",
      "Requirement already satisfied: numpy<2.0,>=1.19.5 in c:\\users\\luis delgado\\appdata\\local\\programs\\python\\python311\\lib\\site-packages (from scikit-learn) (1.26.4)\n",
      "Requirement already satisfied: scipy>=1.6.0 in c:\\users\\luis delgado\\appdata\\local\\programs\\python\\python311\\lib\\site-packages (from scikit-learn) (1.12.0)\n",
      "Requirement already satisfied: joblib>=1.2.0 in c:\\users\\luis delgado\\appdata\\local\\programs\\python\\python311\\lib\\site-packages (from scikit-learn) (1.3.2)\n",
      "Requirement already satisfied: threadpoolctl>=2.0.0 in c:\\users\\luis delgado\\appdata\\local\\programs\\python\\python311\\lib\\site-packages (from scikit-learn) (3.4.0)\n"
     ]
    },
    {
     "name": "stderr",
     "output_type": "stream",
     "text": [
      "\n",
      "[notice] A new release of pip available: 22.3 -> 24.0\n",
      "[notice] To update, run: python.exe -m pip install --upgrade pip\n"
     ]
    }
   ],
   "source": [
    "!python -m pip install pandas\n",
    "!python -m pip install catboost\n",
    "!python -m pip install scikit-learn"
   ]
  },
  {
   "cell_type": "code",
   "execution_count": 2,
   "metadata": {},
   "outputs": [],
   "source": [
    "import pandas as pd"
   ]
  },
  {
   "cell_type": "code",
   "execution_count": 3,
   "metadata": {},
   "outputs": [],
   "source": [
    "df = pd.read_csv('Data\\Miami_Accidents(Clean).csv')\n",
    "df = df.drop('ID', axis=1)"
   ]
  },
  {
   "cell_type": "code",
   "execution_count": 4,
   "metadata": {},
   "outputs": [],
   "source": [
    "from sklearn.model_selection import train_test_split\n",
    "from sklearn.preprocessing import StandardScaler\n",
    "\n",
    "X = df.drop(['Severity'], axis=1)  \n",
    "y = df['Severity']\n",
    "\n",
    "#  We update the selection of categories and numbers based on X\n",
    "categorical_cols = X.select_dtypes(include=['object', 'bool']).columns.tolist()\n",
    "\n",
    "X_train, X_test, y_train, y_test = train_test_split(X, y, test_size=0.2, random_state=42)\n",
    "\n"
   ]
  },
  {
   "cell_type": "code",
   "execution_count": 5,
   "metadata": {},
   "outputs": [
    {
     "name": "stdout",
     "output_type": "stream",
     "text": [
      "0:\tlearn: 0.9668988\ttest: 0.9654905\tbest: 0.9654905 (0)\ttotal: 347ms\tremaining: 34.4s\n",
      "10:\tlearn: 0.9668988\ttest: 0.9654905\tbest: 0.9654905 (0)\ttotal: 1.44s\tremaining: 11.7s\n",
      "20:\tlearn: 0.9678279\ttest: 0.9668790\tbest: 0.9668790 (20)\ttotal: 2.7s\tremaining: 10.2s\n",
      "30:\tlearn: 0.9739029\ttest: 0.9743527\tbest: 0.9743527 (27)\ttotal: 3.94s\tremaining: 8.77s\n",
      "40:\tlearn: 0.9748218\ttest: 0.9750061\tbest: 0.9750061 (38)\ttotal: 5.15s\tremaining: 7.41s\n",
      "50:\tlearn: 0.9758122\ttest: 0.9762313\tbest: 0.9762313 (50)\ttotal: 6.37s\tremaining: 6.12s\n",
      "60:\tlearn: 0.9762308\ttest: 0.9766397\tbest: 0.9766397 (60)\ttotal: 7.57s\tremaining: 4.84s\n",
      "70:\tlearn: 0.9765371\ttest: 0.9765580\tbest: 0.9767214 (64)\ttotal: 8.81s\tremaining: 3.6s\n",
      "80:\tlearn: 0.9765882\ttest: 0.9765989\tbest: 0.9767214 (64)\ttotal: 10s\tremaining: 2.35s\n",
      "90:\tlearn: 0.9767618\ttest: 0.9765580\tbest: 0.9767214 (64)\ttotal: 11.2s\tremaining: 1.11s\n",
      "99:\tlearn: 0.9768945\ttest: 0.9768031\tbest: 0.9768031 (99)\ttotal: 12.3s\tremaining: 0us\n",
      "\n",
      "bestTest = 0.9768030711\n",
      "bestIteration = 99\n",
      "\n",
      "Accuracy: 0.9768030711426938\n",
      "Classification Report:\n",
      "              precision    recall  f1-score   support\n",
      "\n",
      "           1       0.00      0.00      0.00         7\n",
      "           2       0.98      1.00      0.99     23641\n",
      "           3       0.72      0.23      0.35       512\n",
      "           4       0.88      0.71      0.78       326\n",
      "\n",
      "    accuracy                           0.98     24486\n",
      "   macro avg       0.65      0.48      0.53     24486\n",
      "weighted avg       0.97      0.98      0.97     24486\n",
      "\n"
     ]
    },
    {
     "name": "stderr",
     "output_type": "stream",
     "text": [
      "c:\\Users\\Luis Delgado\\AppData\\Local\\Programs\\Python\\Python311\\Lib\\site-packages\\sklearn\\metrics\\_classification.py:1509: UndefinedMetricWarning: Precision is ill-defined and being set to 0.0 in labels with no predicted samples. Use `zero_division` parameter to control this behavior.\n",
      "  _warn_prf(average, modifier, f\"{metric.capitalize()} is\", len(result))\n",
      "c:\\Users\\Luis Delgado\\AppData\\Local\\Programs\\Python\\Python311\\Lib\\site-packages\\sklearn\\metrics\\_classification.py:1509: UndefinedMetricWarning: Precision is ill-defined and being set to 0.0 in labels with no predicted samples. Use `zero_division` parameter to control this behavior.\n",
      "  _warn_prf(average, modifier, f\"{metric.capitalize()} is\", len(result))\n",
      "c:\\Users\\Luis Delgado\\AppData\\Local\\Programs\\Python\\Python311\\Lib\\site-packages\\sklearn\\metrics\\_classification.py:1509: UndefinedMetricWarning: Precision is ill-defined and being set to 0.0 in labels with no predicted samples. Use `zero_division` parameter to control this behavior.\n",
      "  _warn_prf(average, modifier, f\"{metric.capitalize()} is\", len(result))\n"
     ]
    }
   ],
   "source": [
    "from catboost import CatBoostClassifier\n",
    "from sklearn.metrics import accuracy_score, classification_report\n",
    "\n",
    "\n",
    "model = CatBoostClassifier(\n",
    "    iterations=100,\n",
    "    learning_rate=0.1,\n",
    "    depth=6,\n",
    "    loss_function='MultiClass',\n",
    "    eval_metric='Accuracy',\n",
    "    cat_features=categorical_cols,\n",
    "    verbose=10\n",
    ")\n",
    "\n",
    "# trainning the model\n",
    "model.fit(X_train, y_train, eval_set=(X_test, y_test))\n",
    "\n",
    "# Prediction of the model\n",
    "predictions = model.predict(X_test)\n",
    "\n",
    "# Model evaluation\n",
    "accuracy = accuracy_score(y_test, predictions)\n",
    "report = classification_report(y_test, predictions)\n",
    "\n",
    "print(\"Accuracy:\", accuracy)\n",
    "print(\"Classification Report:\")\n",
    "print(report)\n"
   ]
  },
  {
   "cell_type": "markdown",
   "metadata": {},
   "source": [
    "Confusion Matrix"
   ]
  },
  {
   "cell_type": "code",
   "execution_count": 6,
   "metadata": {},
   "outputs": [
    {
     "name": "stdout",
     "output_type": "stream",
     "text": [
      "              precision    recall  f1-score   support\n",
      "\n",
      "           1       0.00      0.00      0.00         7\n",
      "           2       0.98      1.00      0.99     23641\n",
      "           3       0.72      0.23      0.35       512\n",
      "           4       0.88      0.71      0.78       326\n",
      "\n",
      "    accuracy                           0.98     24486\n",
      "   macro avg       0.65      0.48      0.53     24486\n",
      "weighted avg       0.97      0.98      0.97     24486\n",
      "\n",
      "Matriz de Confusión:\n",
      " [[    0     6     1     0]\n",
      " [    0 23569    46    26]\n",
      " [    0   389   119     4]\n",
      " [    0    96     0   230]]\n"
     ]
    },
    {
     "name": "stderr",
     "output_type": "stream",
     "text": [
      "c:\\Users\\Luis Delgado\\AppData\\Local\\Programs\\Python\\Python311\\Lib\\site-packages\\sklearn\\metrics\\_classification.py:1509: UndefinedMetricWarning: Precision is ill-defined and being set to 0.0 in labels with no predicted samples. Use `zero_division` parameter to control this behavior.\n",
      "  _warn_prf(average, modifier, f\"{metric.capitalize()} is\", len(result))\n",
      "c:\\Users\\Luis Delgado\\AppData\\Local\\Programs\\Python\\Python311\\Lib\\site-packages\\sklearn\\metrics\\_classification.py:1509: UndefinedMetricWarning: Precision is ill-defined and being set to 0.0 in labels with no predicted samples. Use `zero_division` parameter to control this behavior.\n",
      "  _warn_prf(average, modifier, f\"{metric.capitalize()} is\", len(result))\n",
      "c:\\Users\\Luis Delgado\\AppData\\Local\\Programs\\Python\\Python311\\Lib\\site-packages\\sklearn\\metrics\\_classification.py:1509: UndefinedMetricWarning: Precision is ill-defined and being set to 0.0 in labels with no predicted samples. Use `zero_division` parameter to control this behavior.\n",
      "  _warn_prf(average, modifier, f\"{metric.capitalize()} is\", len(result))\n"
     ]
    }
   ],
   "source": [
    "from sklearn.metrics import confusion_matrix, classification_report\n",
    "\n",
    "y_pred =model.predict(X_test)\n",
    "print(classification_report(y_test, y_pred))\n",
    "print(\"Matriz de Confusión:\\n\", confusion_matrix(y_test, y_pred))"
   ]
  },
  {
   "cell_type": "markdown",
   "metadata": {},
   "source": [
    "Test #1, the answer should be 2"
   ]
  },
  {
   "cell_type": "code",
   "execution_count": 7,
   "metadata": {},
   "outputs": [
    {
     "name": "stdout",
     "output_type": "stream",
     "text": [
      "The severity prediction is: [2]\n"
     ]
    }
   ],
   "source": [
    "new_data = {\n",
    "    'Start_Time': ['11/30/2016 16:40:31'],\n",
    "    'End_Time': ['11/30/2016 17:10:19'],\n",
    "    'Start_Lat': [25.78601],\n",
    "    'Start_Lng': [-80.25809],\n",
    "    'End_Lat': [25.78336],\n",
    "    'End_Lng': [-80.26911],\n",
    "    'Distance(mi)': [0.71],\n",
    "    'Description': ['At SR-953/42nd Ave/Le Jeune Rd - Accident.'],\n",
    "    'Street': ['Dolphin Expy W'],\n",
    "    'Zipcode': ['33126'],\n",
    "    'Temperature(F)': [78.1],\n",
    "    'Wind_Chill(F)': [78.486101],\n",
    "    'Humidity(%)': [76],\n",
    "    'Pressure(in)': [29.96],\n",
    "    'Visibility(mi)': [10],\n",
    "    'Wind_Speed(mph)': [11.5],\n",
    "    'Precipitation(in)': [0.009293],\n",
    "    'Weather_Condition': ['Mostly Cloudy'],\n",
    "    'Bump': [False],\n",
    "    'Crossing': [False],\n",
    "    'Give_Way': [False],\n",
    "    'Junction': [False],\n",
    "    'No_Exit': [False],\n",
    "    'Railway': [False],\n",
    "    'Roundabout': [False],\n",
    "    'Station': [False],\n",
    "    'Stop': [False],\n",
    "    'Traffic_Calming': [False],\n",
    "    'Traffic_Signal': [False],\n",
    "    'Turning_Loop': [False],\n",
    "    'Sunrise_Sunset': ['Day']\n",
    "}\n",
    "new_data_df = pd.DataFrame(new_data)\n",
    "\n",
    "predicted_severity = model.predict(new_data_df)\n",
    "print('The severity prediction is:', predicted_severity[0])"
   ]
  },
  {
   "cell_type": "markdown",
   "metadata": {},
   "source": [
    "here 4"
   ]
  },
  {
   "cell_type": "code",
   "execution_count": 8,
   "metadata": {},
   "outputs": [
    {
     "name": "stdout",
     "output_type": "stream",
     "text": [
      "The severity prediction is: [4]\n"
     ]
    }
   ],
   "source": [
    "new_data = {\n",
    "    'Start_Time': ['2016-10-17 23:23:59'],\n",
    "    'End_Time': ['2016-10-17 23:23:59'],\n",
    "    'Start_Lat': [25.785738],\n",
    "    'Start_Lng': [-80.175632],\n",
    "    'End_Lat': [25.78575],\n",
    "    'End_Lng': [-80.17564],\n",
    "    'Distance(mi)': [0.001],\n",
    "    'Description': ['Closed at Trooper Robert G Smith Brg - Road closed due to accident.'],\n",
    "    'Street': ['MacArthur Cswy W'],\n",
    "    'Zipcode': ['33132'],\n",
    "    'Temperature(F)': [80.1],\n",
    "    'Wind_Chill(F)': [78.486101],\n",
    "    'Humidity(%)': [64.0],\n",
    "    'Pressure(in)': [29.93],\n",
    "    'Visibility(mi)': [10.0],\n",
    "    'Wind_Speed(mph)': [6.9],\n",
    "    'Precipitation(in)': [0.009293],\n",
    "    'Weather_Condition': ['Partly Cloudy'],\n",
    "    'Bump': [False],\n",
    "    'Crossing': [True],\n",
    "    'Give_Way': [False],\n",
    "    'Junction': [False],\n",
    "    'No_Exit': [True],\n",
    "    'Railway': [False],\n",
    "    'Roundabout': [False],\n",
    "    'Station': [False],\n",
    "    'Stop': [False],\n",
    "    'Traffic_Calming': [False],\n",
    "    'Traffic_Signal': [False],\n",
    "    'Turning_Loop': [False],\n",
    "    'Sunrise_Sunset': ['Night']\n",
    "}\n",
    " \n",
    "\n",
    "new_data_df= pd.DataFrame(new_data)\n",
    "\n",
    "\n",
    "predicted_severity = model.predict(new_data_df)\n",
    "print('The severity prediction is:', predicted_severity[0])\n"
   ]
  }
 ],
 "metadata": {
  "kernelspec": {
   "display_name": "Python 3",
   "language": "python",
   "name": "python3"
  },
  "language_info": {
   "codemirror_mode": {
    "name": "ipython",
    "version": 3
   },
   "file_extension": ".py",
   "mimetype": "text/x-python",
   "name": "python",
   "nbconvert_exporter": "python",
   "pygments_lexer": "ipython3",
   "version": "3.11.0"
  }
 },
 "nbformat": 4,
 "nbformat_minor": 2
}
