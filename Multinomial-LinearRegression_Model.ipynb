{
 "cells": [
  {
   "cell_type": "code",
   "execution_count": 1,
   "metadata": {},
   "outputs": [
    {
     "name": "stdout",
     "output_type": "stream",
     "text": [
      "Requirement already satisfied: pandas in c:\\users\\luis delgado\\appdata\\local\\programs\\python\\python311\\lib\\site-packages (2.2.1)\n",
      "Requirement already satisfied: numpy<2,>=1.23.2 in c:\\users\\luis delgado\\appdata\\local\\programs\\python\\python311\\lib\\site-packages (from pandas) (1.26.4)\n",
      "Requirement already satisfied: python-dateutil>=2.8.2 in c:\\users\\luis delgado\\appdata\\roaming\\python\\python311\\site-packages (from pandas) (2.8.2)\n",
      "Requirement already satisfied: pytz>=2020.1 in c:\\users\\luis delgado\\appdata\\local\\programs\\python\\python311\\lib\\site-packages (from pandas) (2024.1)\n",
      "Requirement already satisfied: tzdata>=2022.7 in c:\\users\\luis delgado\\appdata\\local\\programs\\python\\python311\\lib\\site-packages (from pandas) (2024.1)\n",
      "Requirement already satisfied: six>=1.5 in c:\\users\\luis delgado\\appdata\\local\\programs\\python\\python311\\lib\\site-packages (from python-dateutil>=2.8.2->pandas) (1.16.0)\n"
     ]
    },
    {
     "name": "stderr",
     "output_type": "stream",
     "text": [
      "\n",
      "[notice] A new release of pip available: 22.3 -> 24.0\n",
      "[notice] To update, run: python.exe -m pip install --upgrade pip\n"
     ]
    },
    {
     "name": "stdout",
     "output_type": "stream",
     "text": [
      "Requirement already satisfied: scikit-learn in c:\\users\\luis delgado\\appdata\\local\\programs\\python\\python311\\lib\\site-packages (1.4.1.post1)"
     ]
    },
    {
     "name": "stderr",
     "output_type": "stream",
     "text": [
      "\n",
      "[notice] A new release of pip available: 22.3 -> 24.0\n",
      "[notice] To update, run: python.exe -m pip install --upgrade pip\n"
     ]
    },
    {
     "name": "stdout",
     "output_type": "stream",
     "text": [
      "\n",
      "Requirement already satisfied: numpy<2.0,>=1.19.5 in c:\\users\\luis delgado\\appdata\\local\\programs\\python\\python311\\lib\\site-packages (from scikit-learn) (1.26.4)\n",
      "Requirement already satisfied: scipy>=1.6.0 in c:\\users\\luis delgado\\appdata\\local\\programs\\python\\python311\\lib\\site-packages (from scikit-learn) (1.12.0)\n",
      "Requirement already satisfied: joblib>=1.2.0 in c:\\users\\luis delgado\\appdata\\local\\programs\\python\\python311\\lib\\site-packages (from scikit-learn) (1.3.2)\n",
      "Requirement already satisfied: threadpoolctl>=2.0.0 in c:\\users\\luis delgado\\appdata\\local\\programs\\python\\python311\\lib\\site-packages (from scikit-learn) (3.4.0)\n"
     ]
    }
   ],
   "source": [
    "!python -m pip install pandas\n",
    "!python -m pip install scikit-learn"
   ]
  },
  {
   "cell_type": "markdown",
   "metadata": {},
   "source": [
    "Data preparation to use it in models"
   ]
  },
  {
   "cell_type": "code",
   "execution_count": 2,
   "metadata": {},
   "outputs": [],
   "source": [
    "import pandas as pd\n",
    "df = pd.read_csv(\"Data/Miami_Accidents(Clean).csv\")\n",
    "df = df.drop('ID', axis=1)\n"
   ]
  },
  {
   "cell_type": "markdown",
   "metadata": {},
   "source": [
    "model"
   ]
  },
  {
   "cell_type": "code",
   "execution_count": 3,
   "metadata": {},
   "outputs": [
    {
     "name": "stdout",
     "output_type": "stream",
     "text": [
      "Accuracy: 0.9790900922976394\n",
      "Classification Report:\n",
      "               precision    recall  f1-score   support\n",
      "\n",
      "           1       0.29      0.29      0.29         7\n",
      "           2       0.98      1.00      0.99     23641\n",
      "           3       0.60      0.25      0.36       512\n",
      "           4       0.99      0.90      0.94       326\n",
      "\n",
      "    accuracy                           0.98     24486\n",
      "   macro avg       0.71      0.61      0.64     24486\n",
      "weighted avg       0.97      0.98      0.98     24486\n",
      "\n"
     ]
    }
   ],
   "source": [
    "import pandas as pd\n",
    "from sklearn.model_selection import train_test_split\n",
    "from sklearn.compose import ColumnTransformer\n",
    "from sklearn.preprocessing import OneHotEncoder, StandardScaler\n",
    "from sklearn.feature_extraction.text import CountVectorizer\n",
    "from sklearn.linear_model import LogisticRegression\n",
    "from sklearn.pipeline import Pipeline\n",
    "from sklearn.metrics import accuracy_score, classification_report\n",
    "\n",
    "# Define numerical, categorical, and text columns for preprocessing\n",
    "numerical_cols = ['Start_Lat', 'Start_Lng', 'End_Lat', 'End_Lng', 'Distance(mi)', \n",
    "                  'Temperature(F)', 'Wind_Chill(F)', 'Humidity(%)', 'Pressure(in)', \n",
    "                  'Visibility(mi)', 'Wind_Speed(mph)', 'Precipitation(in)']\n",
    "\n",
    "categorical_cols = ['Street', 'Zipcode', 'Weather_Condition', 'Sunrise_Sunset']\n",
    "\n",
    "text_col = 'Description'  # Text column for feature extraction\n",
    "\n",
    "# Configure the ColumnTransformer to apply appropriate transformations\n",
    "preprocessor = ColumnTransformer(\n",
    "    transformers=[\n",
    "        ('num', StandardScaler(), numerical_cols),  # Normalize numerical data\n",
    "        ('cat', OneHotEncoder(handle_unknown='ignore'), categorical_cols),  # Convert categorical variables into dummy/indicator variables\n",
    "        ('txt', CountVectorizer(), text_col)  # Convert text data into a sparse matrix of word counts\n",
    "    ],\n",
    "    remainder='drop'  # Ignore columns not specified in transformers\n",
    ")\n",
    "\n",
    "# Create a pipeline with preprocessing and logistic regression model\n",
    "pipeline = Pipeline([\n",
    "    ('preprocessor', preprocessor),\n",
    "    ('classifier', LogisticRegression(max_iter=1000, multi_class='multinomial'))  # Use logistic regression for multi-class classification\n",
    "])\n",
    "\n",
    "# Prepare training and testing data\n",
    "X = df.drop('Severity', axis=1)  # Exclude the target variable\n",
    "y = df['Severity']\n",
    "\n",
    "# Split data into training and testing sets\n",
    "X_train, X_test, y_train, y_test = train_test_split(X, y, test_size=0.2, random_state=42)\n",
    "\n",
    "# Train the model using the pipeline\n",
    "pipeline.fit(X_train, y_train)\n",
    "\n",
    "# Evaluate the model\n",
    "predictions = pipeline.predict(X_test)\n",
    "print(\"Accuracy:\", accuracy_score(y_test, predictions))  # Output the accuracy of the model\n",
    "print(\"Classification Report:\\n\", classification_report(y_test, predictions))  # Print the classification report to understand model performance for each class\n"
   ]
  },
  {
   "cell_type": "markdown",
   "metadata": {},
   "source": [
    "Confusion matrix"
   ]
  },
  {
   "cell_type": "code",
   "execution_count": 4,
   "metadata": {},
   "outputs": [
    {
     "name": "stdout",
     "output_type": "stream",
     "text": [
      "              precision    recall  f1-score   support\n",
      "\n",
      "           1       0.29      0.29      0.29         7\n",
      "           2       0.98      1.00      0.99     23641\n",
      "           3       0.60      0.25      0.36       512\n",
      "           4       0.99      0.90      0.94       326\n",
      "\n",
      "    accuracy                           0.98     24486\n",
      "   macro avg       0.71      0.61      0.64     24486\n",
      "weighted avg       0.97      0.98      0.98     24486\n",
      "\n",
      "Confusion matrix:\n",
      " [[    2     2     3     0]\n",
      " [    5 23548    85     3]\n",
      " [    0   382   130     0]\n",
      " [    0    32     0   294]]\n"
     ]
    }
   ],
   "source": [
    "from sklearn.metrics import confusion_matrix, classification_report\n",
    "\n",
    "y_pred =pipeline.predict(X_test)\n",
    "print(classification_report(y_test, y_pred))\n",
    "print(\"Confusion matrix:\\n\", confusion_matrix(y_test, y_pred))"
   ]
  },
  {
   "cell_type": "markdown",
   "metadata": {},
   "source": [
    "Predictions"
   ]
  },
  {
   "cell_type": "markdown",
   "metadata": {},
   "source": [
    "1."
   ]
  },
  {
   "cell_type": "code",
   "execution_count": 5,
   "metadata": {},
   "outputs": [
    {
     "name": "stdout",
     "output_type": "stream",
     "text": [
      "Severity                                                             4\n",
      "Start_Time                                         2016-10-17 23:23:59\n",
      "End_Time                                           2016-10-17 23:23:59\n",
      "Start_Lat                                                    25.785738\n",
      "Start_Lng                                                   -80.175632\n",
      "End_Lat                                                       25.78575\n",
      "End_Lng                                                      -80.17564\n",
      "Distance(mi)                                                     0.001\n",
      "Description          Closed at Trooper Robert G Smith Brg - Road cl...\n",
      "Street                                                MacArthur Cswy W\n",
      "Zipcode                                                          33132\n",
      "Temperature(F)                                                    80.1\n",
      "Wind_Chill(F)                                                78.486101\n",
      "Humidity(%)                                                       64.0\n",
      "Pressure(in)                                                     29.93\n",
      "Visibility(mi)                                                    10.0\n",
      "Wind_Speed(mph)                                                    6.9\n",
      "Precipitation(in)                                             0.009293\n",
      "Weather_Condition                                        Partly Cloudy\n",
      "Bump                                                             False\n",
      "Crossing                                                          True\n",
      "Give_Way                                                         False\n",
      "Junction                                                         False\n",
      "No_Exit                                                           True\n",
      "Railway                                                          False\n",
      "Roundabout                                                       False\n",
      "Station                                                          False\n",
      "Stop                                                             False\n",
      "Traffic_Calming                                                  False\n",
      "Traffic_Signal                                                   False\n",
      "Turning_Loop                                                     False\n",
      "Sunrise_Sunset                                                   Night\n",
      "Name: 1225, dtype: object\n"
     ]
    }
   ],
   "source": [
    "print(df.iloc[1225])"
   ]
  },
  {
   "cell_type": "markdown",
   "metadata": {},
   "source": [
    "should be 4"
   ]
  },
  {
   "cell_type": "code",
   "execution_count": 6,
   "metadata": {},
   "outputs": [
    {
     "name": "stdout",
     "output_type": "stream",
     "text": [
      "The predicted severity is: 4\n"
     ]
    }
   ],
   "source": [
    "import pandas as pd\n",
    "\n",
    "new_data = {\n",
    "    'Start_Time': ['2016-10-17 23:23:59'],\n",
    "    'End_Time': ['2016-10-17 23:23:59'],\n",
    "    'Start_Lat': [25.785738],\n",
    "    'Start_Lng': [-80.175632],\n",
    "    'End_Lat': [25.78575],\n",
    "    'End_Lng': [-80.17564],\n",
    "    'Distance(mi)': [0.001],\n",
    "    'Description': ['Closed at Trooper Robert G Smith Brg - Road closed due to accident.'],\n",
    "    'Street': ['MacArthur Cswy W'],\n",
    "    'Zipcode': ['33132'],\n",
    "    'Temperature(F)': [80.1],\n",
    "    'Wind_Chill(F)': [78.486101],\n",
    "    'Humidity(%)': [64.0],\n",
    "    'Pressure(in)': [29.93],\n",
    "    'Visibility(mi)': [10.0],\n",
    "    'Wind_Speed(mph)': [6.9],\n",
    "    'Precipitation(in)': [0.009293],\n",
    "    'Weather_Condition': ['Partly Cloudy'],\n",
    "    'Bump': [False],\n",
    "    'Crossing': [True],\n",
    "    'Give_Way': [False],\n",
    "    'Junction': [False],\n",
    "    'No_Exit': [True],\n",
    "    'Railway': [False],\n",
    "    'Roundabout': [False],\n",
    "    'Station': [False],\n",
    "    'Stop': [False],\n",
    "    'Traffic_Calming': [False],\n",
    "    'Traffic_Signal': [False],\n",
    "    'Turning_Loop': [False],\n",
    "    'Sunrise_Sunset': ['Night']\n",
    "}\n",
    "\n",
    "\n",
    "new_data_df = pd.DataFrame(new_data)\n",
    "\n",
    "\n",
    "predicted_severity = pipeline.predict(new_data_df)\n",
    "\n",
    "\n",
    "print('The predicted severity is:', predicted_severity[0])\n"
   ]
  },
  {
   "cell_type": "markdown",
   "metadata": {},
   "source": [
    "2."
   ]
  },
  {
   "cell_type": "code",
   "execution_count": 7,
   "metadata": {},
   "outputs": [
    {
     "name": "stdout",
     "output_type": "stream",
     "text": [
      "Severity                                                      2\n",
      "Start_Time                                  2016-11-30 16:35:52\n",
      "End_Time                                    2016-11-30 16:35:52\n",
      "Start_Lat                                              25.78601\n",
      "Start_Lng                                             -80.25809\n",
      "End_Lat                                                25.78336\n",
      "End_Lng                                               -80.26911\n",
      "Distance(mi)                                               0.71\n",
      "Description          At SR-953/42nd Ave/Le Jeune Rd - Accident.\n",
      "Street                                           Dolphin Expy W\n",
      "Zipcode                                                   33126\n",
      "Temperature(F)                                             78.1\n",
      "Wind_Chill(F)                                         78.486101\n",
      "Humidity(%)                                                76.0\n",
      "Pressure(in)                                              29.96\n",
      "Visibility(mi)                                             10.0\n",
      "Wind_Speed(mph)                                            11.5\n",
      "Precipitation(in)                                      0.009293\n",
      "Weather_Condition                                 Mostly Cloudy\n",
      "Bump                                                      False\n",
      "Crossing                                                  False\n",
      "Give_Way                                                  False\n",
      "Junction                                                  False\n",
      "No_Exit                                                   False\n",
      "Railway                                                   False\n",
      "Roundabout                                                False\n",
      "Station                                                   False\n",
      "Stop                                                      False\n",
      "Traffic_Calming                                           False\n",
      "Traffic_Signal                                            False\n",
      "Turning_Loop                                              False\n",
      "Sunrise_Sunset                                              Day\n",
      "Name: 0, dtype: object\n"
     ]
    }
   ],
   "source": [
    "print(df.iloc[0])"
   ]
  },
  {
   "cell_type": "markdown",
   "metadata": {},
   "source": [
    "should be 2"
   ]
  },
  {
   "cell_type": "code",
   "execution_count": 8,
   "metadata": {},
   "outputs": [
    {
     "name": "stdout",
     "output_type": "stream",
     "text": [
      "The predicted severity is: 2\n"
     ]
    }
   ],
   "source": [
    "import pandas as pd\n",
    "\n",
    "new_data = {\n",
    "    'Start_Time': ['11/30/2016 16:40:31'],\n",
    "    'End_Time': ['11/30/2016 17:10:19'],\n",
    "    'Start_Lat': [25.78601],\n",
    "    'Start_Lng': [-80.25809],\n",
    "    'End_Lat': [25.78336],\n",
    "    'End_Lng': [-80.26911],\n",
    "    'Distance(mi)': [0.71],\n",
    "    'Description': ['At SR-953/42nd Ave/Le Jeune Rd - Accident.'],\n",
    "    'Street': ['Dolphin Expy W'],\n",
    "    'Zipcode': ['33126'],\n",
    "    'Temperature(F)': [78.1],\n",
    "    'Wind_Chill(F)': [78.486101],\n",
    "    'Humidity(%)': [76],\n",
    "    'Pressure(in)': [29.96],\n",
    "    'Visibility(mi)': [10],\n",
    "    'Wind_Speed(mph)': [11.5],\n",
    "    'Precipitation(in)': [0.009293],\n",
    "    'Weather_Condition': ['Mostly Cloudy'],\n",
    "    'Bump': [False],\n",
    "    'Crossing': [False],\n",
    "    'Give_Way': [False],\n",
    "    'Junction': [False],\n",
    "    'No_Exit': [False],\n",
    "    'Railway': [False],\n",
    "    'Roundabout': [False],\n",
    "    'Station': [False],\n",
    "    'Stop': [False],\n",
    "    'Traffic_Calming': [False],\n",
    "    'Traffic_Signal': [False],\n",
    "    'Turning_Loop': [False],\n",
    "    'Sunrise_Sunset': ['Day']\n",
    "}\n",
    "\n",
    "new_data_df = pd.DataFrame(new_data)\n",
    "predicted_severity = pipeline.predict(new_data_df)\n",
    "print('The predicted severity is:', predicted_severity[0])\n"
   ]
  }
 ],
 "metadata": {
  "kernelspec": {
   "display_name": "Python 3",
   "language": "python",
   "name": "python3"
  },
  "language_info": {
   "codemirror_mode": {
    "name": "ipython",
    "version": 3
   },
   "file_extension": ".py",
   "mimetype": "text/x-python",
   "name": "python",
   "nbconvert_exporter": "python",
   "pygments_lexer": "ipython3",
   "version": "3.11.0"
  }
 },
 "nbformat": 4,
 "nbformat_minor": 2
}
