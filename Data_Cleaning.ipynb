{
 "cells": [
  {
   "cell_type": "code",
   "execution_count": 124,
   "metadata": {},
   "outputs": [],
   "source": [
    "import pandas as pd\n",
    "import numpy as np  \n",
    "from matplotlib import pyplot as plt"
   ]
  },
  {
   "cell_type": "code",
   "execution_count": 125,
   "metadata": {},
   "outputs": [
    {
     "data": {
      "text/html": [
       "<div>\n",
       "<style scoped>\n",
       "    .dataframe tbody tr th:only-of-type {\n",
       "        vertical-align: middle;\n",
       "    }\n",
       "\n",
       "    .dataframe tbody tr th {\n",
       "        vertical-align: top;\n",
       "    }\n",
       "\n",
       "    .dataframe thead th {\n",
       "        text-align: right;\n",
       "    }\n",
       "</style>\n",
       "<table border=\"1\" class=\"dataframe\">\n",
       "  <thead>\n",
       "    <tr style=\"text-align: right;\">\n",
       "      <th></th>\n",
       "      <th>Unnamed: 0</th>\n",
       "      <th>ID</th>\n",
       "      <th>Source</th>\n",
       "      <th>Severity</th>\n",
       "      <th>Start_Time</th>\n",
       "      <th>End_Time</th>\n",
       "      <th>Start_Lat</th>\n",
       "      <th>Start_Lng</th>\n",
       "      <th>End_Lat</th>\n",
       "      <th>End_Lng</th>\n",
       "      <th>...</th>\n",
       "      <th>Roundabout</th>\n",
       "      <th>Station</th>\n",
       "      <th>Stop</th>\n",
       "      <th>Traffic_Calming</th>\n",
       "      <th>Traffic_Signal</th>\n",
       "      <th>Turning_Loop</th>\n",
       "      <th>Sunrise_Sunset</th>\n",
       "      <th>Civil_Twilight</th>\n",
       "      <th>Nautical_Twilight</th>\n",
       "      <th>Astronomical_Twilight</th>\n",
       "    </tr>\n",
       "  </thead>\n",
       "  <tbody>\n",
       "    <tr>\n",
       "      <th>0</th>\n",
       "      <td>116057</td>\n",
       "      <td>A-116064</td>\n",
       "      <td>Source2</td>\n",
       "      <td>2</td>\n",
       "      <td>2016-11-30 16:40:31</td>\n",
       "      <td>2016-11-30 17:10:19</td>\n",
       "      <td>25.627699</td>\n",
       "      <td>-80.374451</td>\n",
       "      <td>NaN</td>\n",
       "      <td>NaN</td>\n",
       "      <td>...</td>\n",
       "      <td>False</td>\n",
       "      <td>False</td>\n",
       "      <td>True</td>\n",
       "      <td>False</td>\n",
       "      <td>True</td>\n",
       "      <td>False</td>\n",
       "      <td>Day</td>\n",
       "      <td>Day</td>\n",
       "      <td>Day</td>\n",
       "      <td>Day</td>\n",
       "    </tr>\n",
       "    <tr>\n",
       "      <th>1</th>\n",
       "      <td>116060</td>\n",
       "      <td>A-116067</td>\n",
       "      <td>Source2</td>\n",
       "      <td>2</td>\n",
       "      <td>2016-11-30 15:16:19</td>\n",
       "      <td>2016-11-30 17:01:03</td>\n",
       "      <td>25.963093</td>\n",
       "      <td>-80.185677</td>\n",
       "      <td>NaN</td>\n",
       "      <td>NaN</td>\n",
       "      <td>...</td>\n",
       "      <td>False</td>\n",
       "      <td>False</td>\n",
       "      <td>False</td>\n",
       "      <td>False</td>\n",
       "      <td>True</td>\n",
       "      <td>False</td>\n",
       "      <td>Day</td>\n",
       "      <td>Day</td>\n",
       "      <td>Day</td>\n",
       "      <td>Day</td>\n",
       "    </tr>\n",
       "    <tr>\n",
       "      <th>2</th>\n",
       "      <td>116061</td>\n",
       "      <td>A-116068</td>\n",
       "      <td>Source2</td>\n",
       "      <td>2</td>\n",
       "      <td>2016-11-30 16:55:31</td>\n",
       "      <td>2016-11-30 17:25:11</td>\n",
       "      <td>25.841373</td>\n",
       "      <td>-80.322037</td>\n",
       "      <td>NaN</td>\n",
       "      <td>NaN</td>\n",
       "      <td>...</td>\n",
       "      <td>False</td>\n",
       "      <td>False</td>\n",
       "      <td>False</td>\n",
       "      <td>False</td>\n",
       "      <td>False</td>\n",
       "      <td>False</td>\n",
       "      <td>Day</td>\n",
       "      <td>Day</td>\n",
       "      <td>Day</td>\n",
       "      <td>Day</td>\n",
       "    </tr>\n",
       "    <tr>\n",
       "      <th>3</th>\n",
       "      <td>116062</td>\n",
       "      <td>A-116069</td>\n",
       "      <td>Source2</td>\n",
       "      <td>3</td>\n",
       "      <td>2016-11-30 16:57:23</td>\n",
       "      <td>2016-11-30 17:27:10</td>\n",
       "      <td>25.812199</td>\n",
       "      <td>-80.205856</td>\n",
       "      <td>NaN</td>\n",
       "      <td>NaN</td>\n",
       "      <td>...</td>\n",
       "      <td>False</td>\n",
       "      <td>False</td>\n",
       "      <td>False</td>\n",
       "      <td>False</td>\n",
       "      <td>False</td>\n",
       "      <td>False</td>\n",
       "      <td>Day</td>\n",
       "      <td>Day</td>\n",
       "      <td>Day</td>\n",
       "      <td>Day</td>\n",
       "    </tr>\n",
       "    <tr>\n",
       "      <th>4</th>\n",
       "      <td>116064</td>\n",
       "      <td>A-116071</td>\n",
       "      <td>Source2</td>\n",
       "      <td>2</td>\n",
       "      <td>2016-11-30 17:15:52</td>\n",
       "      <td>2016-11-30 17:45:36</td>\n",
       "      <td>25.781235</td>\n",
       "      <td>-80.337181</td>\n",
       "      <td>NaN</td>\n",
       "      <td>NaN</td>\n",
       "      <td>...</td>\n",
       "      <td>False</td>\n",
       "      <td>False</td>\n",
       "      <td>False</td>\n",
       "      <td>False</td>\n",
       "      <td>False</td>\n",
       "      <td>False</td>\n",
       "      <td>Day</td>\n",
       "      <td>Day</td>\n",
       "      <td>Day</td>\n",
       "      <td>Day</td>\n",
       "    </tr>\n",
       "  </tbody>\n",
       "</table>\n",
       "<p>5 rows × 47 columns</p>\n",
       "</div>"
      ],
      "text/plain": [
       "   Unnamed: 0        ID   Source  Severity           Start_Time  \\\n",
       "0      116057  A-116064  Source2         2  2016-11-30 16:40:31   \n",
       "1      116060  A-116067  Source2         2  2016-11-30 15:16:19   \n",
       "2      116061  A-116068  Source2         2  2016-11-30 16:55:31   \n",
       "3      116062  A-116069  Source2         3  2016-11-30 16:57:23   \n",
       "4      116064  A-116071  Source2         2  2016-11-30 17:15:52   \n",
       "\n",
       "              End_Time  Start_Lat  Start_Lng  End_Lat  End_Lng  ...  \\\n",
       "0  2016-11-30 17:10:19  25.627699 -80.374451      NaN      NaN  ...   \n",
       "1  2016-11-30 17:01:03  25.963093 -80.185677      NaN      NaN  ...   \n",
       "2  2016-11-30 17:25:11  25.841373 -80.322037      NaN      NaN  ...   \n",
       "3  2016-11-30 17:27:10  25.812199 -80.205856      NaN      NaN  ...   \n",
       "4  2016-11-30 17:45:36  25.781235 -80.337181      NaN      NaN  ...   \n",
       "\n",
       "   Roundabout Station   Stop Traffic_Calming Traffic_Signal Turning_Loop  \\\n",
       "0       False   False   True           False           True        False   \n",
       "1       False   False  False           False           True        False   \n",
       "2       False   False  False           False          False        False   \n",
       "3       False   False  False           False          False        False   \n",
       "4       False   False  False           False          False        False   \n",
       "\n",
       "  Sunrise_Sunset Civil_Twilight Nautical_Twilight Astronomical_Twilight  \n",
       "0            Day            Day               Day                   Day  \n",
       "1            Day            Day               Day                   Day  \n",
       "2            Day            Day               Day                   Day  \n",
       "3            Day            Day               Day                   Day  \n",
       "4            Day            Day               Day                   Day  \n",
       "\n",
       "[5 rows x 47 columns]"
      ]
     },
     "execution_count": 125,
     "metadata": {},
     "output_type": "execute_result"
    }
   ],
   "source": [
    "df = pd.read_csv('Data/Miami_Accidents.csv')\n",
    "df.head()"
   ]
  },
  {
   "cell_type": "code",
   "execution_count": 126,
   "metadata": {},
   "outputs": [
    {
     "data": {
      "text/plain": [
       "Unnamed: 0                 int64\n",
       "ID                        object\n",
       "Source                    object\n",
       "Severity                   int64\n",
       "Start_Time                object\n",
       "End_Time                  object\n",
       "Start_Lat                float64\n",
       "Start_Lng                float64\n",
       "End_Lat                  float64\n",
       "End_Lng                  float64\n",
       "Distance(mi)             float64\n",
       "Description               object\n",
       "Street                    object\n",
       "City                      object\n",
       "County                    object\n",
       "State                     object\n",
       "Zipcode                   object\n",
       "Country                   object\n",
       "Timezone                  object\n",
       "Airport_Code              object\n",
       "Weather_Timestamp         object\n",
       "Temperature(F)           float64\n",
       "Wind_Chill(F)            float64\n",
       "Humidity(%)              float64\n",
       "Pressure(in)             float64\n",
       "Visibility(mi)           float64\n",
       "Wind_Direction            object\n",
       "Wind_Speed(mph)          float64\n",
       "Precipitation(in)        float64\n",
       "Weather_Condition         object\n",
       "Amenity                     bool\n",
       "Bump                        bool\n",
       "Crossing                    bool\n",
       "Give_Way                    bool\n",
       "Junction                    bool\n",
       "No_Exit                     bool\n",
       "Railway                     bool\n",
       "Roundabout                  bool\n",
       "Station                     bool\n",
       "Stop                        bool\n",
       "Traffic_Calming             bool\n",
       "Traffic_Signal              bool\n",
       "Turning_Loop                bool\n",
       "Sunrise_Sunset            object\n",
       "Civil_Twilight            object\n",
       "Nautical_Twilight         object\n",
       "Astronomical_Twilight     object\n",
       "dtype: object"
      ]
     },
     "execution_count": 126,
     "metadata": {},
     "output_type": "execute_result"
    }
   ],
   "source": [
    "df.dtypes\n"
   ]
  },
  {
   "cell_type": "code",
   "execution_count": 127,
   "metadata": {},
   "outputs": [
    {
     "data": {
      "text/plain": [
       "Index(['Unnamed: 0', 'ID', 'Source', 'Severity', 'Start_Time', 'End_Time',\n",
       "       'Start_Lat', 'Start_Lng', 'End_Lat', 'End_Lng', 'Distance(mi)',\n",
       "       'Description', 'Street', 'City', 'County', 'State', 'Zipcode',\n",
       "       'Country', 'Timezone', 'Airport_Code', 'Weather_Timestamp',\n",
       "       'Temperature(F)', 'Wind_Chill(F)', 'Humidity(%)', 'Pressure(in)',\n",
       "       'Visibility(mi)', 'Wind_Direction', 'Wind_Speed(mph)',\n",
       "       'Precipitation(in)', 'Weather_Condition', 'Amenity', 'Bump', 'Crossing',\n",
       "       'Give_Way', 'Junction', 'No_Exit', 'Railway', 'Roundabout', 'Station',\n",
       "       'Stop', 'Traffic_Calming', 'Traffic_Signal', 'Turning_Loop',\n",
       "       'Sunrise_Sunset', 'Civil_Twilight', 'Nautical_Twilight',\n",
       "       'Astronomical_Twilight'],\n",
       "      dtype='object')"
      ]
     },
     "execution_count": 127,
     "metadata": {},
     "output_type": "execute_result"
    }
   ],
   "source": [
    "df.columns"
   ]
  },
  {
   "cell_type": "code",
   "execution_count": 128,
   "metadata": {},
   "outputs": [
    {
     "data": {
      "text/plain": [
       "count    184685.000000\n",
       "mean         78.469392\n",
       "std           7.590235\n",
       "min         -58.000000\n",
       "25%          75.000000\n",
       "50%          79.000000\n",
       "75%          84.000000\n",
       "max         109.000000\n",
       "Name: Temperature(F), dtype: float64"
      ]
     },
     "execution_count": 128,
     "metadata": {},
     "output_type": "execute_result"
    }
   ],
   "source": [
    "df['Temperature(F)'].describe()"
   ]
  },
  {
   "cell_type": "code",
   "execution_count": 129,
   "metadata": {},
   "outputs": [
    {
     "data": {
      "text/plain": [
       "Index(['ID', 'Source', 'Start_Time', 'End_Time', 'Description', 'Street',\n",
       "       'City', 'County', 'State', 'Zipcode', 'Country', 'Timezone',\n",
       "       'Airport_Code', 'Weather_Timestamp', 'Wind_Direction',\n",
       "       'Weather_Condition', 'Sunrise_Sunset', 'Civil_Twilight',\n",
       "       'Nautical_Twilight', 'Astronomical_Twilight'],\n",
       "      dtype='object')"
      ]
     },
     "execution_count": 129,
     "metadata": {},
     "output_type": "execute_result"
    }
   ],
   "source": [
    "df_with_non_numeric_features = df.select_dtypes(include=['object'])\n",
    "df_with_non_numeric_features.columns"
   ]
  },
  {
   "cell_type": "code",
   "execution_count": 130,
   "metadata": {},
   "outputs": [
    {
     "data": {
      "text/plain": [
       "City\n",
       "Miami    186917\n",
       "Name: count, dtype: int64"
      ]
     },
     "execution_count": 130,
     "metadata": {},
     "output_type": "execute_result"
    }
   ],
   "source": [
    "df['City'].value_counts()"
   ]
  },
  {
   "cell_type": "code",
   "execution_count": 131,
   "metadata": {},
   "outputs": [
    {
     "data": {
      "text/plain": [
       "State\n",
       "FL    186768\n",
       "AZ       141\n",
       "OK         4\n",
       "NM         2\n",
       "OH         1\n",
       "WV         1\n",
       "Name: count, dtype: int64"
      ]
     },
     "execution_count": 131,
     "metadata": {},
     "output_type": "execute_result"
    }
   ],
   "source": [
    "df['State'].value_counts()"
   ]
  },
  {
   "cell_type": "code",
   "execution_count": 132,
   "metadata": {},
   "outputs": [
    {
     "data": {
      "text/plain": [
       "County\n",
       "Miami-Dade    186760\n",
       "Gila             117\n",
       "Pinal             24\n",
       "Broward            8\n",
       "Ottawa             4\n",
       "Colfax             2\n",
       "Clermont           1\n",
       "Kanawha            1\n",
       "Name: count, dtype: int64"
      ]
     },
     "execution_count": 132,
     "metadata": {},
     "output_type": "execute_result"
    }
   ],
   "source": [
    "df['County'].value_counts()"
   ]
  }
 ],
 "metadata": {
  "kernelspec": {
   "display_name": "Python 3",
   "language": "python",
   "name": "python3"
  },
  "language_info": {
   "codemirror_mode": {
    "name": "ipython",
    "version": 3
   },
   "file_extension": ".py",
   "mimetype": "text/x-python",
   "name": "python",
   "nbconvert_exporter": "python",
   "pygments_lexer": "ipython3",
   "version": "3.11.0"
  }
 },
 "nbformat": 4,
 "nbformat_minor": 2
}
