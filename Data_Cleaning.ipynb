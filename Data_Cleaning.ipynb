{
 "cells": [
  {
   "cell_type": "code",
   "execution_count": 33,
   "metadata": {},
   "outputs": [],
   "source": [
    "import pandas as pd\n",
    "import numpy as np  \n",
    "from matplotlib import pyplot as plt"
   ]
  },
  {
   "cell_type": "code",
   "execution_count": 34,
   "metadata": {},
   "outputs": [
    {
     "data": {
      "text/html": [
       "<div>\n",
       "<style scoped>\n",
       "    .dataframe tbody tr th:only-of-type {\n",
       "        vertical-align: middle;\n",
       "    }\n",
       "\n",
       "    .dataframe tbody tr th {\n",
       "        vertical-align: top;\n",
       "    }\n",
       "\n",
       "    .dataframe thead th {\n",
       "        text-align: right;\n",
       "    }\n",
       "</style>\n",
       "<table border=\"1\" class=\"dataframe\">\n",
       "  <thead>\n",
       "    <tr style=\"text-align: right;\">\n",
       "      <th></th>\n",
       "      <th>ID</th>\n",
       "      <th>Severity</th>\n",
       "      <th>Start_Time</th>\n",
       "      <th>End_Time</th>\n",
       "      <th>Start_Lat</th>\n",
       "      <th>Start_Lng</th>\n",
       "      <th>End_Lat</th>\n",
       "      <th>End_Lng</th>\n",
       "      <th>Distance(mi)</th>\n",
       "      <th>Description</th>\n",
       "      <th>...</th>\n",
       "      <th>Junction</th>\n",
       "      <th>No_Exit</th>\n",
       "      <th>Railway</th>\n",
       "      <th>Roundabout</th>\n",
       "      <th>Station</th>\n",
       "      <th>Stop</th>\n",
       "      <th>Traffic_Calming</th>\n",
       "      <th>Traffic_Signal</th>\n",
       "      <th>Turning_Loop</th>\n",
       "      <th>Sunrise_Sunset</th>\n",
       "    </tr>\n",
       "  </thead>\n",
       "  <tbody>\n",
       "    <tr>\n",
       "      <th>0</th>\n",
       "      <td>A-116064</td>\n",
       "      <td>2</td>\n",
       "      <td>2016-11-30 16:40:31</td>\n",
       "      <td>2016-11-30 17:10:19</td>\n",
       "      <td>25.627699</td>\n",
       "      <td>-80.374451</td>\n",
       "      <td>NaN</td>\n",
       "      <td>NaN</td>\n",
       "      <td>0.01</td>\n",
       "      <td>Accident on FL-992 152nd St at Lincoln Blvd.</td>\n",
       "      <td>...</td>\n",
       "      <td>False</td>\n",
       "      <td>False</td>\n",
       "      <td>False</td>\n",
       "      <td>False</td>\n",
       "      <td>False</td>\n",
       "      <td>True</td>\n",
       "      <td>False</td>\n",
       "      <td>True</td>\n",
       "      <td>False</td>\n",
       "      <td>Day</td>\n",
       "    </tr>\n",
       "    <tr>\n",
       "      <th>1</th>\n",
       "      <td>A-116067</td>\n",
       "      <td>2</td>\n",
       "      <td>2016-11-30 15:16:19</td>\n",
       "      <td>2016-11-30 17:01:03</td>\n",
       "      <td>25.963093</td>\n",
       "      <td>-80.185677</td>\n",
       "      <td>NaN</td>\n",
       "      <td>NaN</td>\n",
       "      <td>0.01</td>\n",
       "      <td>Left turn lane blocked due to accident on FL-8...</td>\n",
       "      <td>...</td>\n",
       "      <td>False</td>\n",
       "      <td>False</td>\n",
       "      <td>False</td>\n",
       "      <td>False</td>\n",
       "      <td>False</td>\n",
       "      <td>False</td>\n",
       "      <td>False</td>\n",
       "      <td>True</td>\n",
       "      <td>False</td>\n",
       "      <td>Day</td>\n",
       "    </tr>\n",
       "    <tr>\n",
       "      <th>2</th>\n",
       "      <td>A-116068</td>\n",
       "      <td>2</td>\n",
       "      <td>2016-11-30 16:55:31</td>\n",
       "      <td>2016-11-30 17:25:11</td>\n",
       "      <td>25.841373</td>\n",
       "      <td>-80.322037</td>\n",
       "      <td>NaN</td>\n",
       "      <td>NaN</td>\n",
       "      <td>0.01</td>\n",
       "      <td>Queueing traffic due to accident on FL-826 Pal...</td>\n",
       "      <td>...</td>\n",
       "      <td>False</td>\n",
       "      <td>False</td>\n",
       "      <td>False</td>\n",
       "      <td>False</td>\n",
       "      <td>False</td>\n",
       "      <td>False</td>\n",
       "      <td>False</td>\n",
       "      <td>False</td>\n",
       "      <td>False</td>\n",
       "      <td>Day</td>\n",
       "    </tr>\n",
       "    <tr>\n",
       "      <th>3</th>\n",
       "      <td>A-116069</td>\n",
       "      <td>3</td>\n",
       "      <td>2016-11-30 16:57:23</td>\n",
       "      <td>2016-11-30 17:27:10</td>\n",
       "      <td>25.812199</td>\n",
       "      <td>-80.205856</td>\n",
       "      <td>NaN</td>\n",
       "      <td>NaN</td>\n",
       "      <td>0.01</td>\n",
       "      <td>Accident on I-95 Southbound at Exits 4 4B FL-1...</td>\n",
       "      <td>...</td>\n",
       "      <td>False</td>\n",
       "      <td>False</td>\n",
       "      <td>False</td>\n",
       "      <td>False</td>\n",
       "      <td>False</td>\n",
       "      <td>False</td>\n",
       "      <td>False</td>\n",
       "      <td>False</td>\n",
       "      <td>False</td>\n",
       "      <td>Day</td>\n",
       "    </tr>\n",
       "    <tr>\n",
       "      <th>4</th>\n",
       "      <td>A-116071</td>\n",
       "      <td>2</td>\n",
       "      <td>2016-11-30 17:15:52</td>\n",
       "      <td>2016-11-30 17:45:36</td>\n",
       "      <td>25.781235</td>\n",
       "      <td>-80.337181</td>\n",
       "      <td>NaN</td>\n",
       "      <td>NaN</td>\n",
       "      <td>0.01</td>\n",
       "      <td>Queueing traffic due to accident on FL-836 Dol...</td>\n",
       "      <td>...</td>\n",
       "      <td>False</td>\n",
       "      <td>False</td>\n",
       "      <td>False</td>\n",
       "      <td>False</td>\n",
       "      <td>False</td>\n",
       "      <td>False</td>\n",
       "      <td>False</td>\n",
       "      <td>False</td>\n",
       "      <td>False</td>\n",
       "      <td>Day</td>\n",
       "    </tr>\n",
       "  </tbody>\n",
       "</table>\n",
       "<p>5 rows × 28 columns</p>\n",
       "</div>"
      ],
      "text/plain": [
       "         ID  Severity           Start_Time             End_Time  Start_Lat  \\\n",
       "0  A-116064         2  2016-11-30 16:40:31  2016-11-30 17:10:19  25.627699   \n",
       "1  A-116067         2  2016-11-30 15:16:19  2016-11-30 17:01:03  25.963093   \n",
       "2  A-116068         2  2016-11-30 16:55:31  2016-11-30 17:25:11  25.841373   \n",
       "3  A-116069         3  2016-11-30 16:57:23  2016-11-30 17:27:10  25.812199   \n",
       "4  A-116071         2  2016-11-30 17:15:52  2016-11-30 17:45:36  25.781235   \n",
       "\n",
       "   Start_Lng  End_Lat  End_Lng  Distance(mi)  \\\n",
       "0 -80.374451      NaN      NaN          0.01   \n",
       "1 -80.185677      NaN      NaN          0.01   \n",
       "2 -80.322037      NaN      NaN          0.01   \n",
       "3 -80.205856      NaN      NaN          0.01   \n",
       "4 -80.337181      NaN      NaN          0.01   \n",
       "\n",
       "                                         Description  ... Junction No_Exit  \\\n",
       "0       Accident on FL-992 152nd St at Lincoln Blvd.  ...    False   False   \n",
       "1  Left turn lane blocked due to accident on FL-8...  ...    False   False   \n",
       "2  Queueing traffic due to accident on FL-826 Pal...  ...    False   False   \n",
       "3  Accident on I-95 Southbound at Exits 4 4B FL-1...  ...    False   False   \n",
       "4  Queueing traffic due to accident on FL-836 Dol...  ...    False   False   \n",
       "\n",
       "  Railway Roundabout Station   Stop  Traffic_Calming  Traffic_Signal  \\\n",
       "0   False      False   False   True            False            True   \n",
       "1   False      False   False  False            False            True   \n",
       "2   False      False   False  False            False           False   \n",
       "3   False      False   False  False            False           False   \n",
       "4   False      False   False  False            False           False   \n",
       "\n",
       "   Turning_Loop  Sunrise_Sunset  \n",
       "0         False             Day  \n",
       "1         False             Day  \n",
       "2         False             Day  \n",
       "3         False             Day  \n",
       "4         False             Day  \n",
       "\n",
       "[5 rows x 28 columns]"
      ]
     },
     "execution_count": 34,
     "metadata": {},
     "output_type": "execute_result"
    }
   ],
   "source": [
    "import pandas as pd\n",
    "import numpy as np  \n",
    "from matplotlib import pyplot as plt\n",
    "df = pd.read_csv('Data/Miami_Accidents.csv')\n",
    "df.head()\n",
    "df.columns\n",
    "columns_to_drop = ['Civil_Twilight', 'Nautical_Twilight', 'Astronomical_Twilight', 'Weather_Timestamp', 'Airport_Code', 'Temperature(F)', 'Wind_Chill(F)', 'Humidity(%)', 'Pressure(in)',\n",
    "        'Visibility(mi)', 'Wind_Direction', 'Wind_Speed(mph)',\n",
    "        'Precipitation(in)', 'Weather_Condition', 'Amenity', 'Source', 'Unnamed: 0', \"State\", \"City\"]\n",
    "df.drop(columns=columns_to_drop, inplace=True)\n",
    "df.head()\n"
   ]
  },
  {
   "cell_type": "code",
   "execution_count": 35,
   "metadata": {},
   "outputs": [
    {
     "data": {
      "text/plain": [
       "Unnamed: 0                 int64\n",
       "ID                        object\n",
       "Source                    object\n",
       "Severity                   int64\n",
       "Start_Time                object\n",
       "End_Time                  object\n",
       "Start_Lat                float64\n",
       "Start_Lng                float64\n",
       "End_Lat                  float64\n",
       "End_Lng                  float64\n",
       "Distance(mi)             float64\n",
       "Description               object\n",
       "Street                    object\n",
       "City                      object\n",
       "County                    object\n",
       "State                     object\n",
       "Zipcode                   object\n",
       "Country                   object\n",
       "Timezone                  object\n",
       "Airport_Code              object\n",
       "Weather_Timestamp         object\n",
       "Temperature(F)           float64\n",
       "Wind_Chill(F)            float64\n",
       "Humidity(%)              float64\n",
       "Pressure(in)             float64\n",
       "Visibility(mi)           float64\n",
       "Wind_Direction            object\n",
       "Wind_Speed(mph)          float64\n",
       "Precipitation(in)        float64\n",
       "Weather_Condition         object\n",
       "Amenity                     bool\n",
       "Bump                        bool\n",
       "Crossing                    bool\n",
       "Give_Way                    bool\n",
       "Junction                    bool\n",
       "No_Exit                     bool\n",
       "Railway                     bool\n",
       "Roundabout                  bool\n",
       "Station                     bool\n",
       "Stop                        bool\n",
       "Traffic_Calming             bool\n",
       "Traffic_Signal              bool\n",
       "Turning_Loop                bool\n",
       "Sunrise_Sunset            object\n",
       "Civil_Twilight            object\n",
       "Nautical_Twilight         object\n",
       "Astronomical_Twilight     object\n",
       "dtype: object"
      ]
     },
     "execution_count": 35,
     "metadata": {},
     "output_type": "execute_result"
    }
   ],
   "source": [
    "df.dtypes\n"
   ]
  },
  {
   "cell_type": "code",
   "execution_count": 36,
   "metadata": {},
   "outputs": [
    {
     "data": {
      "text/plain": [
       "Index(['Unnamed: 0', 'ID', 'Source', 'Severity', 'Start_Time', 'End_Time',\n",
       "       'Start_Lat', 'Start_Lng', 'End_Lat', 'End_Lng', 'Distance(mi)',\n",
       "       'Description', 'Street', 'City', 'County', 'State', 'Zipcode',\n",
       "       'Country', 'Timezone', 'Bump', 'Crossing', 'Give_Way', 'Junction',\n",
       "       'No_Exit', 'Railway', 'Roundabout', 'Station', 'Stop',\n",
       "       'Traffic_Calming', 'Traffic_Signal', 'Turning_Loop', 'Sunrise_Sunset'],\n",
       "      dtype='object')"
      ]
     },
     "execution_count": 36,
     "metadata": {},
     "output_type": "execute_result"
    }
   ],
   "source": [
    "df.columns"
   ]
  },
  {
   "cell_type": "code",
   "execution_count": 37,
   "metadata": {},
   "outputs": [
    {
     "data": {
      "text/plain": [
       "count    184685.000000\n",
       "mean         78.469392\n",
       "std           7.590235\n",
       "min         -58.000000\n",
       "25%          75.000000\n",
       "50%          79.000000\n",
       "75%          84.000000\n",
       "max         109.000000\n",
       "Name: Temperature(F), dtype: float64"
      ]
     },
     "execution_count": 37,
     "metadata": {},
     "output_type": "execute_result"
    }
   ],
   "source": [
    "df['Temperature(F)'].describe()"
   ]
  },
  {
   "cell_type": "code",
   "execution_count": 38,
   "metadata": {},
   "outputs": [
    {
     "data": {
      "text/plain": [
       "Index(['ID', 'Source', 'Start_Time', 'End_Time', 'Description', 'Street',\n",
       "       'City', 'County', 'State', 'Zipcode', 'Country', 'Timezone',\n",
       "       'Airport_Code', 'Weather_Timestamp', 'Wind_Direction',\n",
       "       'Weather_Condition', 'Sunrise_Sunset', 'Civil_Twilight',\n",
       "       'Nautical_Twilight', 'Astronomical_Twilight'],\n",
       "      dtype='object')"
      ]
     },
     "execution_count": 38,
     "metadata": {},
     "output_type": "execute_result"
    }
   ],
   "source": [
    "df_with_non_numeric_features = df.select_dtypes(include=['object'])\n",
    "df_with_non_numeric_features.columns"
   ]
  },
  {
   "cell_type": "code",
   "execution_count": 39,
   "metadata": {},
   "outputs": [
    {
     "data": {
      "text/plain": [
       "City\n",
       "Miami    186917\n",
       "Name: count, dtype: int64"
      ]
     },
     "execution_count": 39,
     "metadata": {},
     "output_type": "execute_result"
    }
   ],
   "source": [
    "df['City'].value_counts()"
   ]
  },
  {
   "cell_type": "code",
   "execution_count": 40,
   "metadata": {},
   "outputs": [
    {
     "data": {
      "text/plain": [
       "State\n",
       "FL    186768\n",
       "AZ       141\n",
       "OK         4\n",
       "NM         2\n",
       "OH         1\n",
       "WV         1\n",
       "Name: count, dtype: int64"
      ]
     },
     "execution_count": 40,
     "metadata": {},
     "output_type": "execute_result"
    }
   ],
   "source": [
    "df['State'].value_counts()"
   ]
  },
  {
   "cell_type": "code",
   "execution_count": 41,
   "metadata": {},
   "outputs": [],
   "source": [
    "df = df[df['State'] == 'FL']\n"
   ]
  },
  {
   "cell_type": "code",
   "execution_count": 42,
   "metadata": {},
   "outputs": [
    {
     "data": {
      "text/plain": [
       "County\n",
       "Miami-Dade    186760\n",
       "Broward            8\n",
       "Name: count, dtype: int64"
      ]
     },
     "execution_count": 42,
     "metadata": {},
     "output_type": "execute_result"
    }
   ],
   "source": [
    "df['County'].value_counts()"
   ]
  },
  {
   "cell_type": "code",
   "execution_count": 43,
   "metadata": {},
   "outputs": [],
   "source": [
    "df = df[df['County'] == 'Miami-Dade']"
   ]
  },
  {
   "cell_type": "code",
   "execution_count": 44,
   "metadata": {},
   "outputs": [
    {
     "data": {
      "text/plain": [
       "County\n",
       "Miami-Dade    186760\n",
       "Name: count, dtype: int64"
      ]
     },
     "execution_count": 44,
     "metadata": {},
     "output_type": "execute_result"
    }
   ],
   "source": [
    "df['County'].value_counts()"
   ]
  },
  {
   "cell_type": "code",
   "execution_count": 45,
   "metadata": {},
   "outputs": [],
   "source": [
    "df['Start_Time'] = pd.to_datetime(df['Start_Time'], format='%Y-%m-%d %H:%M:%S', errors='coerce')"
   ]
  },
  {
   "cell_type": "code",
   "execution_count": 46,
   "metadata": {},
   "outputs": [],
   "source": [
    "df['End_Time'] = pd.to_datetime(df['Start_Time'], format='%Y-%m-%d %H:%M:%S', errors='coerce')"
   ]
  },
  {
   "cell_type": "code",
   "execution_count": 47,
   "metadata": {},
   "outputs": [
    {
     "data": {
      "text/plain": [
       "Start_Time           30353\n",
       "End_Time             30353\n",
       "End_Lat              33465\n",
       "End_Lng              33465\n",
       "Street                 201\n",
       "Timezone                 1\n",
       "Airport_Code             1\n",
       "Weather_Timestamp      492\n",
       "Temperature(F)        2205\n",
       "Wind_Chill(F)        27215\n",
       "Humidity(%)           2389\n",
       "Pressure(in)           574\n",
       "Visibility(mi)        1782\n",
       "Wind_Direction        1637\n",
       "Wind_Speed(mph)       4134\n",
       "Precipitation(in)    21669\n",
       "Weather_Condition     1555\n",
       "dtype: int64"
      ]
     },
     "execution_count": 47,
     "metadata": {},
     "output_type": "execute_result"
    }
   ],
   "source": [
    "df.isna().sum()[df.isna().sum()>0]"
   ]
  },
  {
   "cell_type": "code",
   "execution_count": 48,
   "metadata": {},
   "outputs": [],
   "source": [
    "# Dropping huge amount of missing data for Time\n",
    "df = df.dropna(subset = ['Start_Time']).reset_index(drop = True)"
   ]
  },
  {
   "cell_type": "code",
   "execution_count": 49,
   "metadata": {},
   "outputs": [
    {
     "data": {
      "text/plain": [
       "End_Lat              33465\n",
       "End_Lng              33465\n",
       "Street                 151\n",
       "Timezone                 1\n",
       "Airport_Code             1\n",
       "Weather_Timestamp      407\n",
       "Temperature(F)        1888\n",
       "Wind_Chill(F)        26833\n",
       "Humidity(%)           2061\n",
       "Pressure(in)           479\n",
       "Visibility(mi)        1460\n",
       "Wind_Direction        1298\n",
       "Wind_Speed(mph)       3795\n",
       "Precipitation(in)    21584\n",
       "Weather_Condition     1226\n",
       "dtype: int64"
      ]
     },
     "execution_count": 49,
     "metadata": {},
     "output_type": "execute_result"
    }
   ],
   "source": [
    "df.isna().sum()[df.isna().sum()>0]"
   ]
  },
  {
   "cell_type": "code",
   "execution_count": 50,
   "metadata": {},
   "outputs": [],
   "source": [
    "# Dropping all the row data with End_Lat\n",
    "df = df.dropna(subset = ['End_Lat']).reset_index(drop = True)"
   ]
  },
  {
   "cell_type": "code",
   "execution_count": null,
   "metadata": {},
   "outputs": [],
   "source": [
    "# Missing start and end times or start latitude and end longitude make the data less informative and actionable. \n",
    "# It hampers the ability to analyze and derive insights from the dataset effectively.\n",
    "# Missing start and end times or start latitude and end longitude significantly reduce the usefulness \n",
    "# and reliability of the dataset, especially in contexts like car accidents where temporal and spatial \n",
    "# information is crucial for analysis and decision-making."
   ]
  },
  {
   "cell_type": "code",
   "execution_count": 51,
   "metadata": {},
   "outputs": [
    {
     "data": {
      "text/plain": [
       "Street                137\n",
       "Timezone                1\n",
       "Airport_Code            1\n",
       "Weather_Timestamp     338\n",
       "Temperature(F)       1550\n",
       "Wind_Chill(F)        9632\n",
       "Humidity(%)          1671\n",
       "Pressure(in)          377\n",
       "Visibility(mi)       1256\n",
       "Wind_Direction       1151\n",
       "Wind_Speed(mph)      1862\n",
       "Precipitation(in)    6968\n",
       "Weather_Condition    1045\n",
       "dtype: int64"
      ]
     },
     "execution_count": 51,
     "metadata": {},
     "output_type": "execute_result"
    }
   ],
   "source": [
    "df.isna().sum()[df.isna().sum()>0]"
   ]
  },
  {
   "cell_type": "code",
   "execution_count": 52,
   "metadata": {},
   "outputs": [
    {
     "data": {
      "text/plain": [
       "(122942, 47)"
      ]
     },
     "execution_count": 52,
     "metadata": {},
     "output_type": "execute_result"
    }
   ],
   "source": [
    "df.shape"
   ]
  },
  {
   "cell_type": "code",
   "execution_count": 53,
   "metadata": {},
   "outputs": [],
   "source": [
    "# Dropping rows with little NaN"
   ]
  },
  {
   "cell_type": "code",
   "execution_count": 54,
   "metadata": {},
   "outputs": [],
   "source": [
    "df = df.dropna(subset = ['Street']).reset_index(drop = True)"
   ]
  },
  {
   "cell_type": "code",
   "execution_count": 55,
   "metadata": {},
   "outputs": [],
   "source": [
    "df = df.dropna(subset = ['Timezone']).reset_index(drop = True)"
   ]
  },
  {
   "cell_type": "code",
   "execution_count": 56,
   "metadata": {},
   "outputs": [],
   "source": [
    "df = df.dropna(subset = ['Airport_Code']).reset_index(drop = True)"
   ]
  },
  {
   "cell_type": "code",
   "execution_count": 57,
   "metadata": {},
   "outputs": [],
   "source": [
    "df = df.dropna(subset = ['Pressure(in)']).reset_index(drop = True)"
   ]
  },
  {
   "cell_type": "code",
   "execution_count": 58,
   "metadata": {},
   "outputs": [
    {
     "name": "stderr",
     "output_type": "stream",
     "text": [
      "C:\\Users\\Luis Delgado\\AppData\\Local\\Temp\\ipykernel_15500\\3541851716.py:2: FutureWarning: A value is trying to be set on a copy of a DataFrame or Series through chained assignment using an inplace method.\n",
      "The behavior will change in pandas 3.0. This inplace method will never work because the intermediate object on which we are setting values always behaves as a copy.\n",
      "\n",
      "For example, when doing 'df[col].method(value, inplace=True)', try using 'df.method({col: value}, inplace=True)' or df[col] = df[col].method(value) instead, to perform the operation inplace on the original object.\n",
      "\n",
      "\n",
      "  df['Temperature(F)'].fillna(df['Temperature(F)'].mean(), inplace=True)\n"
     ]
    }
   ],
   "source": [
    "# The following useful columns with many NaN values will be filled with the mean to avoid dropping more data\n",
    "df['Temperature(F)'].fillna(df['Temperature(F)'].mean(), inplace=True)\n"
   ]
  },
  {
   "cell_type": "code",
   "execution_count": 59,
   "metadata": {},
   "outputs": [
    {
     "name": "stderr",
     "output_type": "stream",
     "text": [
      "C:\\Users\\Luis Delgado\\AppData\\Local\\Temp\\ipykernel_15500\\2119085980.py:1: FutureWarning: A value is trying to be set on a copy of a DataFrame or Series through chained assignment using an inplace method.\n",
      "The behavior will change in pandas 3.0. This inplace method will never work because the intermediate object on which we are setting values always behaves as a copy.\n",
      "\n",
      "For example, when doing 'df[col].method(value, inplace=True)', try using 'df.method({col: value}, inplace=True)' or df[col] = df[col].method(value) instead, to perform the operation inplace on the original object.\n",
      "\n",
      "\n",
      "  df['Wind_Chill(F)'].fillna(df['Wind_Chill(F)'].mean(), inplace=True)\n"
     ]
    }
   ],
   "source": [
    "df['Wind_Chill(F)'].fillna(df['Wind_Chill(F)'].mean(), inplace=True)\n"
   ]
  },
  {
   "cell_type": "code",
   "execution_count": 60,
   "metadata": {},
   "outputs": [
    {
     "name": "stderr",
     "output_type": "stream",
     "text": [
      "C:\\Users\\Luis Delgado\\AppData\\Local\\Temp\\ipykernel_15500\\3101885415.py:1: FutureWarning: A value is trying to be set on a copy of a DataFrame or Series through chained assignment using an inplace method.\n",
      "The behavior will change in pandas 3.0. This inplace method will never work because the intermediate object on which we are setting values always behaves as a copy.\n",
      "\n",
      "For example, when doing 'df[col].method(value, inplace=True)', try using 'df.method({col: value}, inplace=True)' or df[col] = df[col].method(value) instead, to perform the operation inplace on the original object.\n",
      "\n",
      "\n",
      "  df['Precipitation(in)'].fillna(df['Precipitation(in)'].mean(), inplace=True)\n"
     ]
    }
   ],
   "source": [
    "df['Precipitation(in)'].fillna(df['Precipitation(in)'].mean(), inplace=True)\n"
   ]
  },
  {
   "cell_type": "code",
   "execution_count": 61,
   "metadata": {},
   "outputs": [
    {
     "name": "stderr",
     "output_type": "stream",
     "text": [
      "C:\\Users\\Luis Delgado\\AppData\\Local\\Temp\\ipykernel_15500\\3966286156.py:1: FutureWarning: A value is trying to be set on a copy of a DataFrame or Series through chained assignment using an inplace method.\n",
      "The behavior will change in pandas 3.0. This inplace method will never work because the intermediate object on which we are setting values always behaves as a copy.\n",
      "\n",
      "For example, when doing 'df[col].method(value, inplace=True)', try using 'df.method({col: value}, inplace=True)' or df[col] = df[col].method(value) instead, to perform the operation inplace on the original object.\n",
      "\n",
      "\n",
      "  df['Wind_Speed(mph)'].fillna(df['Wind_Speed(mph)'].mean(), inplace=True)\n"
     ]
    }
   ],
   "source": [
    "df['Wind_Speed(mph)'].fillna(df['Wind_Speed(mph)'].mean(), inplace=True)"
   ]
  },
  {
   "cell_type": "code",
   "execution_count": 62,
   "metadata": {},
   "outputs": [
    {
     "name": "stderr",
     "output_type": "stream",
     "text": [
      "C:\\Users\\Luis Delgado\\AppData\\Local\\Temp\\ipykernel_15500\\4275028072.py:1: FutureWarning: A value is trying to be set on a copy of a DataFrame or Series through chained assignment using an inplace method.\n",
      "The behavior will change in pandas 3.0. This inplace method will never work because the intermediate object on which we are setting values always behaves as a copy.\n",
      "\n",
      "For example, when doing 'df[col].method(value, inplace=True)', try using 'df.method({col: value}, inplace=True)' or df[col] = df[col].method(value) instead, to perform the operation inplace on the original object.\n",
      "\n",
      "\n",
      "  df['Humidity(%)'].fillna(df['Humidity(%)'].mean(), inplace=True)\n"
     ]
    }
   ],
   "source": [
    "df['Humidity(%)'].fillna(df['Humidity(%)'].mean(), inplace=True)"
   ]
  },
  {
   "cell_type": "code",
   "execution_count": 63,
   "metadata": {},
   "outputs": [
    {
     "name": "stderr",
     "output_type": "stream",
     "text": [
      "C:\\Users\\Luis Delgado\\AppData\\Local\\Temp\\ipykernel_15500\\3688051799.py:1: FutureWarning: A value is trying to be set on a copy of a DataFrame or Series through chained assignment using an inplace method.\n",
      "The behavior will change in pandas 3.0. This inplace method will never work because the intermediate object on which we are setting values always behaves as a copy.\n",
      "\n",
      "For example, when doing 'df[col].method(value, inplace=True)', try using 'df.method({col: value}, inplace=True)' or df[col] = df[col].method(value) instead, to perform the operation inplace on the original object.\n",
      "\n",
      "\n",
      "  df['Visibility(mi)'].fillna(df['Visibility(mi)'].mean(), inplace=True)\n"
     ]
    }
   ],
   "source": [
    "df['Visibility(mi)'].fillna(df['Visibility(mi)'].mean(), inplace=True)"
   ]
  },
  {
   "cell_type": "code",
   "execution_count": 64,
   "metadata": {},
   "outputs": [
    {
     "name": "stderr",
     "output_type": "stream",
     "text": [
      "C:\\Users\\Luis Delgado\\AppData\\Local\\Temp\\ipykernel_15500\\4076273199.py:2: FutureWarning: A value is trying to be set on a copy of a DataFrame or Series through chained assignment using an inplace method.\n",
      "The behavior will change in pandas 3.0. This inplace method will never work because the intermediate object on which we are setting values always behaves as a copy.\n",
      "\n",
      "For example, when doing 'df[col].method(value, inplace=True)', try using 'df.method({col: value}, inplace=True)' or df[col] = df[col].method(value) instead, to perform the operation inplace on the original object.\n",
      "\n",
      "\n",
      "  df['Weather_Condition'].fillna(df['Weather_Condition'].mode()[0], inplace=True)\n"
     ]
    }
   ],
   "source": [
    "# Mode Imputation. Filling NaN values with the most common value\n",
    "df['Weather_Condition'].fillna(df['Weather_Condition'].mode()[0], inplace=True)"
   ]
  },
  {
   "cell_type": "code",
   "execution_count": 65,
   "metadata": {},
   "outputs": [
    {
     "name": "stderr",
     "output_type": "stream",
     "text": [
      "C:\\Users\\Luis Delgado\\AppData\\Local\\Temp\\ipykernel_15500\\495439393.py:1: FutureWarning: A value is trying to be set on a copy of a DataFrame or Series through chained assignment using an inplace method.\n",
      "The behavior will change in pandas 3.0. This inplace method will never work because the intermediate object on which we are setting values always behaves as a copy.\n",
      "\n",
      "For example, when doing 'df[col].method(value, inplace=True)', try using 'df.method({col: value}, inplace=True)' or df[col] = df[col].method(value) instead, to perform the operation inplace on the original object.\n",
      "\n",
      "\n",
      "  df['Wind_Direction'].fillna(df['Wind_Direction'].mode()[0], inplace=True)\n"
     ]
    }
   ],
   "source": [
    "df['Wind_Direction'].fillna(df['Wind_Direction'].mode()[0], inplace=True)"
   ]
  },
  {
   "cell_type": "code",
   "execution_count": 66,
   "metadata": {},
   "outputs": [
    {
     "data": {
      "text/plain": [
       "Series([], dtype: int64)"
      ]
     },
     "execution_count": 66,
     "metadata": {},
     "output_type": "execute_result"
    }
   ],
   "source": [
    "# There shouldn't be more missing data in the dataset\n",
    "df.isna().sum()[df.isna().sum()>0]"
   ]
  },
  {
   "cell_type": "code",
   "execution_count": 67,
   "metadata": {},
   "outputs": [
    {
     "data": {
      "text/plain": [
       "(122428, 47)"
      ]
     },
     "execution_count": 67,
     "metadata": {},
     "output_type": "execute_result"
    }
   ],
   "source": [
    "# Check final size\n",
    "df.shape"
   ]
  },
  {
   "cell_type": "code",
   "execution_count": 72,
   "metadata": {},
   "outputs": [
    {
     "name": "stderr",
     "output_type": "stream",
     "text": [
      "\n",
      "[notice] A new release of pip available: 22.3 -> 24.0\n",
      "[notice] To update, run: python.exe -m pip install --upgrade pip\n"
     ]
    },
    {
     "name": "stdout",
     "output_type": "stream",
     "text": [
      "Collecting scipy\n",
      "  Downloading scipy-1.12.0-cp311-cp311-win_amd64.whl (46.2 MB)\n",
      "     --------------------------------------- 46.2/46.2 MB 22.6 MB/s eta 0:00:00\n",
      "Requirement already satisfied: numpy<1.29.0,>=1.22.4 in c:\\users\\luis delgado\\appdata\\local\\programs\\python\\python311\\lib\\site-packages (from scipy) (1.26.4)\n",
      "Installing collected packages: scipy\n",
      "Successfully installed scipy-1.12.0\n"
     ]
    }
   ],
   "source": [
    "# Getting rid of Outliers\n",
    "!pip install scipy\n",
    "from scipy.stats import zscore\n"
   ]
  },
  {
   "cell_type": "code",
   "execution_count": 73,
   "metadata": {},
   "outputs": [],
   "source": [
    "features_considered = ['Temperature(F)', 'Visibility(mi)', 'Pressure(in)', 'Precipitation(in)', 'Humidity(%)', 'Wind_Chill(F)', 'Wind_Speed(mph)']\n",
    "z_scores = zscore(df[features_considered], nan_policy='omit')"
   ]
  },
  {
   "cell_type": "code",
   "execution_count": 74,
   "metadata": {},
   "outputs": [
    {
     "data": {
      "text/html": [
       "<div>\n",
       "<style scoped>\n",
       "    .dataframe tbody tr th:only-of-type {\n",
       "        vertical-align: middle;\n",
       "    }\n",
       "\n",
       "    .dataframe tbody tr th {\n",
       "        vertical-align: top;\n",
       "    }\n",
       "\n",
       "    .dataframe thead th {\n",
       "        text-align: right;\n",
       "    }\n",
       "</style>\n",
       "<table border=\"1\" class=\"dataframe\">\n",
       "  <thead>\n",
       "    <tr style=\"text-align: right;\">\n",
       "      <th></th>\n",
       "      <th>Temperature(F)</th>\n",
       "      <th>Visibility(mi)</th>\n",
       "      <th>Pressure(in)</th>\n",
       "      <th>Precipitation(in)</th>\n",
       "      <th>Humidity(%)</th>\n",
       "      <th>Wind_Chill(F)</th>\n",
       "      <th>Wind_Speed(mph)</th>\n",
       "    </tr>\n",
       "  </thead>\n",
       "  <tbody>\n",
       "    <tr>\n",
       "      <th>0</th>\n",
       "      <td>-0.057131</td>\n",
       "      <td>0.212910</td>\n",
       "      <td>-0.696241</td>\n",
       "      <td>-2.431265e-17</td>\n",
       "      <td>0.465712</td>\n",
       "      <td>0.0</td>\n",
       "      <td>4.350862e-01</td>\n",
       "    </tr>\n",
       "    <tr>\n",
       "      <th>1</th>\n",
       "      <td>-0.057131</td>\n",
       "      <td>0.212910</td>\n",
       "      <td>-0.388510</td>\n",
       "      <td>-2.431265e-17</td>\n",
       "      <td>0.465712</td>\n",
       "      <td>0.0</td>\n",
       "      <td>-9.556509e-01</td>\n",
       "    </tr>\n",
       "    <tr>\n",
       "      <th>2</th>\n",
       "      <td>-0.616499</td>\n",
       "      <td>0.212910</td>\n",
       "      <td>-0.388510</td>\n",
       "      <td>-1.302496e-01</td>\n",
       "      <td>1.655153</td>\n",
       "      <td>0.0</td>\n",
       "      <td>3.580356e-16</td>\n",
       "    </tr>\n",
       "    <tr>\n",
       "      <th>3</th>\n",
       "      <td>-0.469998</td>\n",
       "      <td>-2.884257</td>\n",
       "      <td>-0.491087</td>\n",
       "      <td>-2.431265e-17</td>\n",
       "      <td>1.725120</td>\n",
       "      <td>0.0</td>\n",
       "      <td>-1.177363e+00</td>\n",
       "    </tr>\n",
       "    <tr>\n",
       "      <th>4</th>\n",
       "      <td>-0.203632</td>\n",
       "      <td>0.212910</td>\n",
       "      <td>-0.183356</td>\n",
       "      <td>-2.431265e-17</td>\n",
       "      <td>1.445251</td>\n",
       "      <td>0.0</td>\n",
       "      <td>3.580356e-16</td>\n",
       "    </tr>\n",
       "  </tbody>\n",
       "</table>\n",
       "</div>"
      ],
      "text/plain": [
       "   Temperature(F)  Visibility(mi)  Pressure(in)  Precipitation(in)  \\\n",
       "0       -0.057131        0.212910     -0.696241      -2.431265e-17   \n",
       "1       -0.057131        0.212910     -0.388510      -2.431265e-17   \n",
       "2       -0.616499        0.212910     -0.388510      -1.302496e-01   \n",
       "3       -0.469998       -2.884257     -0.491087      -2.431265e-17   \n",
       "4       -0.203632        0.212910     -0.183356      -2.431265e-17   \n",
       "\n",
       "   Humidity(%)  Wind_Chill(F)  Wind_Speed(mph)  \n",
       "0     0.465712            0.0     4.350862e-01  \n",
       "1     0.465712            0.0    -9.556509e-01  \n",
       "2     1.655153            0.0     3.580356e-16  \n",
       "3     1.725120            0.0    -1.177363e+00  \n",
       "4     1.445251            0.0     3.580356e-16  "
      ]
     },
     "execution_count": 74,
     "metadata": {},
     "output_type": "execute_result"
    }
   ],
   "source": [
    "z_scores.head()"
   ]
  },
  {
   "cell_type": "code",
   "execution_count": 76,
   "metadata": {},
   "outputs": [],
   "source": [
    "# convert to absolute values\n",
    "abs_z_scores = np.abs(z_scores)\n",
    "# filter based on |z-score| less than 3\n",
    "filtered_entries = (abs_z_scores < 3).all(axis=1)"
   ]
  },
  {
   "cell_type": "code",
   "execution_count": 77,
   "metadata": {},
   "outputs": [
    {
     "data": {
      "text/plain": [
       "0         True\n",
       "1         True\n",
       "2         True\n",
       "3         True\n",
       "4         True\n",
       "          ... \n",
       "122423    True\n",
       "122424    True\n",
       "122425    True\n",
       "122426    True\n",
       "122427    True\n",
       "Length: 122428, dtype: bool"
      ]
     },
     "execution_count": 77,
     "metadata": {},
     "output_type": "execute_result"
    }
   ],
   "source": [
    "filtered_entries"
   ]
  },
  {
   "cell_type": "code",
   "execution_count": 78,
   "metadata": {},
   "outputs": [
    {
     "name": "stdout",
     "output_type": "stream",
     "text": [
      "Outliers present in the dataset\n"
     ]
    },
    {
     "data": {
      "text/html": [
       "<div>\n",
       "<style scoped>\n",
       "    .dataframe tbody tr th:only-of-type {\n",
       "        vertical-align: middle;\n",
       "    }\n",
       "\n",
       "    .dataframe tbody tr th {\n",
       "        vertical-align: top;\n",
       "    }\n",
       "\n",
       "    .dataframe thead th {\n",
       "        text-align: right;\n",
       "    }\n",
       "</style>\n",
       "<table border=\"1\" class=\"dataframe\">\n",
       "  <thead>\n",
       "    <tr style=\"text-align: right;\">\n",
       "      <th></th>\n",
       "      <th>Unnamed: 0</th>\n",
       "      <th>ID</th>\n",
       "      <th>Source</th>\n",
       "      <th>Severity</th>\n",
       "      <th>Start_Time</th>\n",
       "      <th>End_Time</th>\n",
       "      <th>Start_Lat</th>\n",
       "      <th>Start_Lng</th>\n",
       "      <th>End_Lat</th>\n",
       "      <th>End_Lng</th>\n",
       "      <th>...</th>\n",
       "      <th>Roundabout</th>\n",
       "      <th>Station</th>\n",
       "      <th>Stop</th>\n",
       "      <th>Traffic_Calming</th>\n",
       "      <th>Traffic_Signal</th>\n",
       "      <th>Turning_Loop</th>\n",
       "      <th>Sunrise_Sunset</th>\n",
       "      <th>Civil_Twilight</th>\n",
       "      <th>Nautical_Twilight</th>\n",
       "      <th>Astronomical_Twilight</th>\n",
       "    </tr>\n",
       "  </thead>\n",
       "  <tbody>\n",
       "    <tr>\n",
       "      <th>70</th>\n",
       "      <td>3437968</td>\n",
       "      <td>A-3447851</td>\n",
       "      <td>Source1</td>\n",
       "      <td>3</td>\n",
       "      <td>2016-12-08 07:07:05</td>\n",
       "      <td>2016-12-08 07:07:05</td>\n",
       "      <td>25.844400</td>\n",
       "      <td>-80.206670</td>\n",
       "      <td>25.865180</td>\n",
       "      <td>-80.208210</td>\n",
       "      <td>...</td>\n",
       "      <td>False</td>\n",
       "      <td>False</td>\n",
       "      <td>False</td>\n",
       "      <td>False</td>\n",
       "      <td>False</td>\n",
       "      <td>False</td>\n",
       "      <td>Day</td>\n",
       "      <td>Day</td>\n",
       "      <td>Day</td>\n",
       "      <td>Day</td>\n",
       "    </tr>\n",
       "    <tr>\n",
       "      <th>71</th>\n",
       "      <td>3438023</td>\n",
       "      <td>A-3447906</td>\n",
       "      <td>Source1</td>\n",
       "      <td>2</td>\n",
       "      <td>2016-12-08 09:25:55</td>\n",
       "      <td>2016-12-08 09:25:55</td>\n",
       "      <td>25.780840</td>\n",
       "      <td>-80.199890</td>\n",
       "      <td>25.798780</td>\n",
       "      <td>-80.205380</td>\n",
       "      <td>...</td>\n",
       "      <td>False</td>\n",
       "      <td>False</td>\n",
       "      <td>False</td>\n",
       "      <td>False</td>\n",
       "      <td>False</td>\n",
       "      <td>False</td>\n",
       "      <td>Day</td>\n",
       "      <td>Day</td>\n",
       "      <td>Day</td>\n",
       "      <td>Day</td>\n",
       "    </tr>\n",
       "    <tr>\n",
       "      <th>73</th>\n",
       "      <td>3438185</td>\n",
       "      <td>A-3448068</td>\n",
       "      <td>Source1</td>\n",
       "      <td>2</td>\n",
       "      <td>2016-12-08 15:56:08</td>\n",
       "      <td>2016-12-08 15:56:08</td>\n",
       "      <td>25.679730</td>\n",
       "      <td>-80.388750</td>\n",
       "      <td>25.691820</td>\n",
       "      <td>-80.388550</td>\n",
       "      <td>...</td>\n",
       "      <td>False</td>\n",
       "      <td>False</td>\n",
       "      <td>False</td>\n",
       "      <td>False</td>\n",
       "      <td>False</td>\n",
       "      <td>False</td>\n",
       "      <td>Day</td>\n",
       "      <td>Day</td>\n",
       "      <td>Day</td>\n",
       "      <td>Day</td>\n",
       "    </tr>\n",
       "    <tr>\n",
       "      <th>95</th>\n",
       "      <td>3438799</td>\n",
       "      <td>A-3448682</td>\n",
       "      <td>Source1</td>\n",
       "      <td>2</td>\n",
       "      <td>2016-12-10 09:30:33</td>\n",
       "      <td>2016-12-10 09:30:33</td>\n",
       "      <td>25.903540</td>\n",
       "      <td>-80.210270</td>\n",
       "      <td>25.895060</td>\n",
       "      <td>-80.209740</td>\n",
       "      <td>...</td>\n",
       "      <td>False</td>\n",
       "      <td>False</td>\n",
       "      <td>False</td>\n",
       "      <td>False</td>\n",
       "      <td>False</td>\n",
       "      <td>False</td>\n",
       "      <td>Day</td>\n",
       "      <td>Day</td>\n",
       "      <td>Day</td>\n",
       "      <td>Day</td>\n",
       "    </tr>\n",
       "    <tr>\n",
       "      <th>96</th>\n",
       "      <td>3438803</td>\n",
       "      <td>A-3448686</td>\n",
       "      <td>Source1</td>\n",
       "      <td>2</td>\n",
       "      <td>2016-12-10 09:30:33</td>\n",
       "      <td>2016-12-10 09:30:33</td>\n",
       "      <td>25.844400</td>\n",
       "      <td>-80.206670</td>\n",
       "      <td>25.851680</td>\n",
       "      <td>-80.207780</td>\n",
       "      <td>...</td>\n",
       "      <td>False</td>\n",
       "      <td>False</td>\n",
       "      <td>False</td>\n",
       "      <td>False</td>\n",
       "      <td>False</td>\n",
       "      <td>False</td>\n",
       "      <td>Day</td>\n",
       "      <td>Day</td>\n",
       "      <td>Day</td>\n",
       "      <td>Day</td>\n",
       "    </tr>\n",
       "    <tr>\n",
       "      <th>...</th>\n",
       "      <td>...</td>\n",
       "      <td>...</td>\n",
       "      <td>...</td>\n",
       "      <td>...</td>\n",
       "      <td>...</td>\n",
       "      <td>...</td>\n",
       "      <td>...</td>\n",
       "      <td>...</td>\n",
       "      <td>...</td>\n",
       "      <td>...</td>\n",
       "      <td>...</td>\n",
       "      <td>...</td>\n",
       "      <td>...</td>\n",
       "      <td>...</td>\n",
       "      <td>...</td>\n",
       "      <td>...</td>\n",
       "      <td>...</td>\n",
       "      <td>...</td>\n",
       "      <td>...</td>\n",
       "      <td>...</td>\n",
       "      <td>...</td>\n",
       "    </tr>\n",
       "    <tr>\n",
       "      <th>122293</th>\n",
       "      <td>7717807</td>\n",
       "      <td>A-7767175</td>\n",
       "      <td>Source1</td>\n",
       "      <td>4</td>\n",
       "      <td>2019-08-01 05:43:44</td>\n",
       "      <td>2019-08-01 05:43:44</td>\n",
       "      <td>25.949511</td>\n",
       "      <td>-80.182727</td>\n",
       "      <td>26.043400</td>\n",
       "      <td>-80.162880</td>\n",
       "      <td>...</td>\n",
       "      <td>False</td>\n",
       "      <td>False</td>\n",
       "      <td>False</td>\n",
       "      <td>False</td>\n",
       "      <td>False</td>\n",
       "      <td>False</td>\n",
       "      <td>Night</td>\n",
       "      <td>Night</td>\n",
       "      <td>Night</td>\n",
       "      <td>Day</td>\n",
       "    </tr>\n",
       "    <tr>\n",
       "      <th>122308</th>\n",
       "      <td>7718389</td>\n",
       "      <td>A-7767757</td>\n",
       "      <td>Source1</td>\n",
       "      <td>3</td>\n",
       "      <td>2019-08-02 04:11:26</td>\n",
       "      <td>2019-08-02 04:11:26</td>\n",
       "      <td>25.940610</td>\n",
       "      <td>-80.190460</td>\n",
       "      <td>25.946880</td>\n",
       "      <td>-80.185370</td>\n",
       "      <td>...</td>\n",
       "      <td>False</td>\n",
       "      <td>False</td>\n",
       "      <td>False</td>\n",
       "      <td>False</td>\n",
       "      <td>False</td>\n",
       "      <td>False</td>\n",
       "      <td>Night</td>\n",
       "      <td>Night</td>\n",
       "      <td>Night</td>\n",
       "      <td>Night</td>\n",
       "    </tr>\n",
       "    <tr>\n",
       "      <th>122343</th>\n",
       "      <td>7721244</td>\n",
       "      <td>A-7770612</td>\n",
       "      <td>Source1</td>\n",
       "      <td>3</td>\n",
       "      <td>2019-08-08 15:33:34</td>\n",
       "      <td>2019-08-08 15:33:34</td>\n",
       "      <td>25.845730</td>\n",
       "      <td>-80.322470</td>\n",
       "      <td>25.837800</td>\n",
       "      <td>-80.322220</td>\n",
       "      <td>...</td>\n",
       "      <td>False</td>\n",
       "      <td>False</td>\n",
       "      <td>False</td>\n",
       "      <td>False</td>\n",
       "      <td>False</td>\n",
       "      <td>False</td>\n",
       "      <td>Day</td>\n",
       "      <td>Day</td>\n",
       "      <td>Day</td>\n",
       "      <td>Day</td>\n",
       "    </tr>\n",
       "    <tr>\n",
       "      <th>122370</th>\n",
       "      <td>7723334</td>\n",
       "      <td>A-7772702</td>\n",
       "      <td>Source1</td>\n",
       "      <td>2</td>\n",
       "      <td>2019-08-13 20:43:04</td>\n",
       "      <td>2019-08-13 20:43:04</td>\n",
       "      <td>25.963640</td>\n",
       "      <td>-80.149540</td>\n",
       "      <td>25.963640</td>\n",
       "      <td>-80.149540</td>\n",
       "      <td>...</td>\n",
       "      <td>False</td>\n",
       "      <td>False</td>\n",
       "      <td>False</td>\n",
       "      <td>False</td>\n",
       "      <td>True</td>\n",
       "      <td>False</td>\n",
       "      <td>Night</td>\n",
       "      <td>Night</td>\n",
       "      <td>Day</td>\n",
       "      <td>Day</td>\n",
       "    </tr>\n",
       "    <tr>\n",
       "      <th>122376</th>\n",
       "      <td>7723893</td>\n",
       "      <td>A-7773261</td>\n",
       "      <td>Source1</td>\n",
       "      <td>3</td>\n",
       "      <td>2019-08-14 13:05:47</td>\n",
       "      <td>2019-08-14 13:05:47</td>\n",
       "      <td>25.781091</td>\n",
       "      <td>-80.172207</td>\n",
       "      <td>25.781091</td>\n",
       "      <td>-80.172207</td>\n",
       "      <td>...</td>\n",
       "      <td>False</td>\n",
       "      <td>False</td>\n",
       "      <td>False</td>\n",
       "      <td>False</td>\n",
       "      <td>False</td>\n",
       "      <td>False</td>\n",
       "      <td>Day</td>\n",
       "      <td>Day</td>\n",
       "      <td>Day</td>\n",
       "      <td>Day</td>\n",
       "    </tr>\n",
       "  </tbody>\n",
       "</table>\n",
       "<p>6471 rows × 47 columns</p>\n",
       "</div>"
      ],
      "text/plain": [
       "        Unnamed: 0         ID   Source  Severity          Start_Time  \\\n",
       "70         3437968  A-3447851  Source1         3 2016-12-08 07:07:05   \n",
       "71         3438023  A-3447906  Source1         2 2016-12-08 09:25:55   \n",
       "73         3438185  A-3448068  Source1         2 2016-12-08 15:56:08   \n",
       "95         3438799  A-3448682  Source1         2 2016-12-10 09:30:33   \n",
       "96         3438803  A-3448686  Source1         2 2016-12-10 09:30:33   \n",
       "...            ...        ...      ...       ...                 ...   \n",
       "122293     7717807  A-7767175  Source1         4 2019-08-01 05:43:44   \n",
       "122308     7718389  A-7767757  Source1         3 2019-08-02 04:11:26   \n",
       "122343     7721244  A-7770612  Source1         3 2019-08-08 15:33:34   \n",
       "122370     7723334  A-7772702  Source1         2 2019-08-13 20:43:04   \n",
       "122376     7723893  A-7773261  Source1         3 2019-08-14 13:05:47   \n",
       "\n",
       "                  End_Time  Start_Lat  Start_Lng    End_Lat    End_Lng  ...  \\\n",
       "70     2016-12-08 07:07:05  25.844400 -80.206670  25.865180 -80.208210  ...   \n",
       "71     2016-12-08 09:25:55  25.780840 -80.199890  25.798780 -80.205380  ...   \n",
       "73     2016-12-08 15:56:08  25.679730 -80.388750  25.691820 -80.388550  ...   \n",
       "95     2016-12-10 09:30:33  25.903540 -80.210270  25.895060 -80.209740  ...   \n",
       "96     2016-12-10 09:30:33  25.844400 -80.206670  25.851680 -80.207780  ...   \n",
       "...                    ...        ...        ...        ...        ...  ...   \n",
       "122293 2019-08-01 05:43:44  25.949511 -80.182727  26.043400 -80.162880  ...   \n",
       "122308 2019-08-02 04:11:26  25.940610 -80.190460  25.946880 -80.185370  ...   \n",
       "122343 2019-08-08 15:33:34  25.845730 -80.322470  25.837800 -80.322220  ...   \n",
       "122370 2019-08-13 20:43:04  25.963640 -80.149540  25.963640 -80.149540  ...   \n",
       "122376 2019-08-14 13:05:47  25.781091 -80.172207  25.781091 -80.172207  ...   \n",
       "\n",
       "        Roundabout Station   Stop Traffic_Calming Traffic_Signal Turning_Loop  \\\n",
       "70           False   False  False           False          False        False   \n",
       "71           False   False  False           False          False        False   \n",
       "73           False   False  False           False          False        False   \n",
       "95           False   False  False           False          False        False   \n",
       "96           False   False  False           False          False        False   \n",
       "...            ...     ...    ...             ...            ...          ...   \n",
       "122293       False   False  False           False          False        False   \n",
       "122308       False   False  False           False          False        False   \n",
       "122343       False   False  False           False          False        False   \n",
       "122370       False   False  False           False           True        False   \n",
       "122376       False   False  False           False          False        False   \n",
       "\n",
       "       Sunrise_Sunset Civil_Twilight Nautical_Twilight Astronomical_Twilight  \n",
       "70                Day            Day               Day                   Day  \n",
       "71                Day            Day               Day                   Day  \n",
       "73                Day            Day               Day                   Day  \n",
       "95                Day            Day               Day                   Day  \n",
       "96                Day            Day               Day                   Day  \n",
       "...               ...            ...               ...                   ...  \n",
       "122293          Night          Night             Night                   Day  \n",
       "122308          Night          Night             Night                 Night  \n",
       "122343            Day            Day               Day                   Day  \n",
       "122370          Night          Night               Day                   Day  \n",
       "122376            Day            Day               Day                   Day  \n",
       "\n",
       "[6471 rows x 47 columns]"
      ]
     },
     "execution_count": 78,
     "metadata": {},
     "output_type": "execute_result"
    }
   ],
   "source": [
    "print(\"Outliers present in the dataset\")\n",
    "df.loc[filtered_entries == False]"
   ]
  },
  {
   "cell_type": "code",
   "execution_count": 79,
   "metadata": {},
   "outputs": [
    {
     "name": "stdout",
     "output_type": "stream",
     "text": [
      "Number of rows after filtering outliers 115957\n"
     ]
    },
    {
     "data": {
      "text/html": [
       "<div>\n",
       "<style scoped>\n",
       "    .dataframe tbody tr th:only-of-type {\n",
       "        vertical-align: middle;\n",
       "    }\n",
       "\n",
       "    .dataframe tbody tr th {\n",
       "        vertical-align: top;\n",
       "    }\n",
       "\n",
       "    .dataframe thead th {\n",
       "        text-align: right;\n",
       "    }\n",
       "</style>\n",
       "<table border=\"1\" class=\"dataframe\">\n",
       "  <thead>\n",
       "    <tr style=\"text-align: right;\">\n",
       "      <th></th>\n",
       "      <th>Unnamed: 0</th>\n",
       "      <th>ID</th>\n",
       "      <th>Source</th>\n",
       "      <th>Severity</th>\n",
       "      <th>Start_Time</th>\n",
       "      <th>End_Time</th>\n",
       "      <th>Start_Lat</th>\n",
       "      <th>Start_Lng</th>\n",
       "      <th>End_Lat</th>\n",
       "      <th>End_Lng</th>\n",
       "      <th>...</th>\n",
       "      <th>Roundabout</th>\n",
       "      <th>Station</th>\n",
       "      <th>Stop</th>\n",
       "      <th>Traffic_Calming</th>\n",
       "      <th>Traffic_Signal</th>\n",
       "      <th>Turning_Loop</th>\n",
       "      <th>Sunrise_Sunset</th>\n",
       "      <th>Civil_Twilight</th>\n",
       "      <th>Nautical_Twilight</th>\n",
       "      <th>Astronomical_Twilight</th>\n",
       "    </tr>\n",
       "  </thead>\n",
       "  <tbody>\n",
       "    <tr>\n",
       "      <th>0</th>\n",
       "      <td>3435331</td>\n",
       "      <td>A-3445214</td>\n",
       "      <td>Source1</td>\n",
       "      <td>2</td>\n",
       "      <td>2016-11-30 16:35:52</td>\n",
       "      <td>2016-11-30 16:35:52</td>\n",
       "      <td>25.78601</td>\n",
       "      <td>-80.25809</td>\n",
       "      <td>25.78336</td>\n",
       "      <td>-80.26911</td>\n",
       "      <td>...</td>\n",
       "      <td>False</td>\n",
       "      <td>False</td>\n",
       "      <td>False</td>\n",
       "      <td>False</td>\n",
       "      <td>False</td>\n",
       "      <td>False</td>\n",
       "      <td>Day</td>\n",
       "      <td>Day</td>\n",
       "      <td>Day</td>\n",
       "      <td>Day</td>\n",
       "    </tr>\n",
       "    <tr>\n",
       "      <th>1</th>\n",
       "      <td>3435399</td>\n",
       "      <td>A-3445282</td>\n",
       "      <td>Source1</td>\n",
       "      <td>2</td>\n",
       "      <td>2016-11-30 18:35:52</td>\n",
       "      <td>2016-11-30 18:35:52</td>\n",
       "      <td>25.66214</td>\n",
       "      <td>-80.38860</td>\n",
       "      <td>25.65292</td>\n",
       "      <td>-80.38712</td>\n",
       "      <td>...</td>\n",
       "      <td>False</td>\n",
       "      <td>False</td>\n",
       "      <td>False</td>\n",
       "      <td>False</td>\n",
       "      <td>False</td>\n",
       "      <td>False</td>\n",
       "      <td>Night</td>\n",
       "      <td>Night</td>\n",
       "      <td>Night</td>\n",
       "      <td>Day</td>\n",
       "    </tr>\n",
       "    <tr>\n",
       "      <th>2</th>\n",
       "      <td>3435476</td>\n",
       "      <td>A-3445359</td>\n",
       "      <td>Source1</td>\n",
       "      <td>2</td>\n",
       "      <td>2016-12-01 05:51:51</td>\n",
       "      <td>2016-12-01 05:51:51</td>\n",
       "      <td>25.97053</td>\n",
       "      <td>-80.16576</td>\n",
       "      <td>25.95995</td>\n",
       "      <td>-80.16870</td>\n",
       "      <td>...</td>\n",
       "      <td>False</td>\n",
       "      <td>False</td>\n",
       "      <td>False</td>\n",
       "      <td>False</td>\n",
       "      <td>False</td>\n",
       "      <td>False</td>\n",
       "      <td>Night</td>\n",
       "      <td>Night</td>\n",
       "      <td>Night</td>\n",
       "      <td>Day</td>\n",
       "    </tr>\n",
       "    <tr>\n",
       "      <th>3</th>\n",
       "      <td>3435477</td>\n",
       "      <td>A-3445360</td>\n",
       "      <td>Source1</td>\n",
       "      <td>3</td>\n",
       "      <td>2016-12-01 06:03:23</td>\n",
       "      <td>2016-12-01 06:03:23</td>\n",
       "      <td>25.78447</td>\n",
       "      <td>-80.29346</td>\n",
       "      <td>25.78488</td>\n",
       "      <td>-80.28444</td>\n",
       "      <td>...</td>\n",
       "      <td>False</td>\n",
       "      <td>False</td>\n",
       "      <td>False</td>\n",
       "      <td>False</td>\n",
       "      <td>False</td>\n",
       "      <td>False</td>\n",
       "      <td>Night</td>\n",
       "      <td>Night</td>\n",
       "      <td>Day</td>\n",
       "      <td>Day</td>\n",
       "    </tr>\n",
       "    <tr>\n",
       "      <th>4</th>\n",
       "      <td>3435561</td>\n",
       "      <td>A-3445444</td>\n",
       "      <td>Source1</td>\n",
       "      <td>2</td>\n",
       "      <td>2016-12-01 08:21:46</td>\n",
       "      <td>2016-12-01 08:21:46</td>\n",
       "      <td>25.91310</td>\n",
       "      <td>-80.21024</td>\n",
       "      <td>25.90780</td>\n",
       "      <td>-80.21023</td>\n",
       "      <td>...</td>\n",
       "      <td>False</td>\n",
       "      <td>False</td>\n",
       "      <td>False</td>\n",
       "      <td>False</td>\n",
       "      <td>False</td>\n",
       "      <td>False</td>\n",
       "      <td>Day</td>\n",
       "      <td>Day</td>\n",
       "      <td>Day</td>\n",
       "      <td>Day</td>\n",
       "    </tr>\n",
       "  </tbody>\n",
       "</table>\n",
       "<p>5 rows × 47 columns</p>\n",
       "</div>"
      ],
      "text/plain": [
       "   Unnamed: 0         ID   Source  Severity          Start_Time  \\\n",
       "0     3435331  A-3445214  Source1         2 2016-11-30 16:35:52   \n",
       "1     3435399  A-3445282  Source1         2 2016-11-30 18:35:52   \n",
       "2     3435476  A-3445359  Source1         2 2016-12-01 05:51:51   \n",
       "3     3435477  A-3445360  Source1         3 2016-12-01 06:03:23   \n",
       "4     3435561  A-3445444  Source1         2 2016-12-01 08:21:46   \n",
       "\n",
       "             End_Time  Start_Lat  Start_Lng   End_Lat   End_Lng  ...  \\\n",
       "0 2016-11-30 16:35:52   25.78601  -80.25809  25.78336 -80.26911  ...   \n",
       "1 2016-11-30 18:35:52   25.66214  -80.38860  25.65292 -80.38712  ...   \n",
       "2 2016-12-01 05:51:51   25.97053  -80.16576  25.95995 -80.16870  ...   \n",
       "3 2016-12-01 06:03:23   25.78447  -80.29346  25.78488 -80.28444  ...   \n",
       "4 2016-12-01 08:21:46   25.91310  -80.21024  25.90780 -80.21023  ...   \n",
       "\n",
       "   Roundabout Station   Stop Traffic_Calming Traffic_Signal Turning_Loop  \\\n",
       "0       False   False  False           False          False        False   \n",
       "1       False   False  False           False          False        False   \n",
       "2       False   False  False           False          False        False   \n",
       "3       False   False  False           False          False        False   \n",
       "4       False   False  False           False          False        False   \n",
       "\n",
       "  Sunrise_Sunset Civil_Twilight Nautical_Twilight Astronomical_Twilight  \n",
       "0            Day            Day               Day                   Day  \n",
       "1          Night          Night             Night                   Day  \n",
       "2          Night          Night             Night                   Day  \n",
       "3          Night          Night               Day                   Day  \n",
       "4            Day            Day               Day                   Day  \n",
       "\n",
       "[5 rows x 47 columns]"
      ]
     },
     "execution_count": 79,
     "metadata": {},
     "output_type": "execute_result"
    }
   ],
   "source": [
    "# Printing total rows after removing outliers\n",
    "df_without_outliers = df[filtered_entries]\n",
    "print('Number of rows after filtering outliers', len(df_without_outliers))\n",
    "df_without_outliers.head()"
   ]
  },
  {
   "cell_type": "code",
   "execution_count": null,
   "metadata": {},
   "outputs": [],
   "source": [
    "df.to_csv(\"Data/Miami_Accidents(Clean).csv\", index = False)"
   ]
  }
 ],
 "metadata": {
  "kernelspec": {
   "display_name": "Python 3",
   "language": "python",
   "name": "python3"
  },
  "language_info": {
   "codemirror_mode": {
    "name": "ipython",
    "version": 3
   },
   "file_extension": ".py",
   "mimetype": "text/x-python",
   "name": "python",
   "nbconvert_exporter": "python",
   "pygments_lexer": "ipython3",
   "version": "3.11.1"
  }
 },
 "nbformat": 4,
 "nbformat_minor": 2
}
